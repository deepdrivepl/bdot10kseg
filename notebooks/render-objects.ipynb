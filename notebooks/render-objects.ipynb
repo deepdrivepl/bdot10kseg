{
 "cells": [
  {
   "cell_type": "code",
   "execution_count": null,
   "id": "24e70fec",
   "metadata": {},
   "outputs": [],
   "source": [
    "from glob import glob\n",
    "from tqdm import tqdm\n",
    "import geopandas as gpd\n",
    "import matplotlib.pyplot as plt\n",
    "import pandas as pd"
   ]
  },
  {
   "cell_type": "code",
   "execution_count": null,
   "id": "9f0caeff",
   "metadata": {},
   "outputs": [],
   "source": [
    "shps = sorted(glob('/mnt/nfs/ortofotomapa/shp/unzipped/SHP/*.shp'))\n",
    "len(shps)"
   ]
  },
  {
   "cell_type": "code",
   "execution_count": null,
   "id": "15de670e",
   "metadata": {},
   "outputs": [],
   "source": [
    "df_to_merge=[]\n",
    "\n",
    "for fn in shps:\n",
    "    if '_BUZT' in fn:\n",
    "        print(fn)\n",
    "        df = gpd.read_file(fn)\n",
    "        df_to_merge.append(df)\n"
   ]
  },
  {
   "cell_type": "code",
   "execution_count": null,
   "id": "d1ccbe78",
   "metadata": {},
   "outputs": [],
   "source": [
    "df_merged = pd.concat(df_to_merge)\n",
    "type(df_merged)"
   ]
  },
  {
   "cell_type": "code",
   "execution_count": null,
   "id": "8720b1f4",
   "metadata": {},
   "outputs": [],
   "source": [
    "set([_.crs for _ in df_to_merge])"
   ]
  },
  {
   "cell_type": "code",
   "execution_count": null,
   "id": "e578efb5",
   "metadata": {},
   "outputs": [],
   "source": [
    "df_merged"
   ]
  },
  {
   "cell_type": "code",
   "execution_count": null,
   "id": "4334d09c",
   "metadata": {},
   "outputs": [],
   "source": [
    "# image_dir='Z:/ortofotomapa/images/'\n",
    "image_dir='/mnt/nfs/ortofotomapa/images'\n",
    "tiffs = glob(image_dir+'/*.tif')\n",
    "len(tiffs)"
   ]
  },
  {
   "cell_type": "code",
   "execution_count": null,
   "id": "36eb50ff",
   "metadata": {},
   "outputs": [],
   "source": [
    "import rasterio\n",
    "from rasterio.plot import show"
   ]
  },
  {
   "cell_type": "code",
   "execution_count": null,
   "id": "dd532617",
   "metadata": {},
   "outputs": [],
   "source": [
    "fname = tiffs[2]\n",
    "raster = rasterio.open(fname)\n",
    "show(raster)"
   ]
  },
  {
   "cell_type": "code",
   "execution_count": null,
   "id": "8fb7db5f",
   "metadata": {},
   "outputs": [],
   "source": [
    "raster.bounds"
   ]
  },
  {
   "cell_type": "code",
   "execution_count": null,
   "id": "bd9a142c",
   "metadata": {},
   "outputs": [],
   "source": [
    "df_merged.cx[raster.bounds.left:raster.bounds.right, raster.bounds.bottom:raster.bounds.top]"
   ]
  },
  {
   "cell_type": "code",
   "execution_count": null,
   "id": "cd7a90df",
   "metadata": {},
   "outputs": [],
   "source": [
    "df_merged.cx[raster.bounds.left:raster.bounds.right, raster.bounds.bottom:raster.bounds.top].geometry.plot()"
   ]
  },
  {
   "cell_type": "code",
   "execution_count": null,
   "id": "d8aa8124",
   "metadata": {},
   "outputs": [],
   "source": [
    "\n",
    "ax = df_merged.geometry.plot(figsize=(30,30))\n",
    "# show(raster,ax=ax)"
   ]
  },
  {
   "cell_type": "code",
   "execution_count": null,
   "id": "87d27411",
   "metadata": {
    "scrolled": false
   },
   "outputs": [],
   "source": [
    "# plt.figure(figsize=(20,20))\n",
    "# show(raster)\n",
    "# df_merged.cx[raster.bounds.left:raster.bounds.right, raster.bounds.bottom:raster.bounds.top].geometry.plot(figsize=(20,20))"
   ]
  }
 ],
 "metadata": {
  "kernelspec": {
   "display_name": "Python 3",
   "language": "python",
   "name": "python3"
  },
  "language_info": {
   "codemirror_mode": {
    "name": "ipython",
    "version": 3
   },
   "file_extension": ".py",
   "mimetype": "text/x-python",
   "name": "python",
   "nbconvert_exporter": "python",
   "pygments_lexer": "ipython3",
   "version": "3.7.6"
  }
 },
 "nbformat": 4,
 "nbformat_minor": 5
}
