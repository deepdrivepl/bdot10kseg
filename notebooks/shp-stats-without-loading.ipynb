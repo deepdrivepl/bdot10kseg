{
 "cells": [
  {
   "cell_type": "code",
   "execution_count": null,
   "id": "130087f0",
   "metadata": {},
   "outputs": [],
   "source": [
    "import cv2\n",
    "from glob import glob\n",
    "import numpy as np\n",
    "import matplotlib.pyplot as plt\n",
    "import geopandas as gpd\n",
    "import pandas as pd"
   ]
  },
  {
   "cell_type": "code",
   "execution_count": null,
   "id": "b5e46dee",
   "metadata": {},
   "outputs": [],
   "source": [
    "shp_dir = ''"
   ]
  },
  {
   "cell_type": "code",
   "execution_count": null,
   "id": "0def926e",
   "metadata": {},
   "outputs": [],
   "source": [
    "shps = glob(shp_dir+'/*.shp')\n",
    "print(len(shps), shps[0])"
   ]
  },
  {
   "cell_type": "code",
   "execution_count": null,
   "id": "d468ee94",
   "metadata": {},
   "outputs": [],
   "source": [
    "def split_name(shp):\n",
    "    s = shp[:-4].replace('\\\\','/').split('/')[-1]\n",
    "    a = s.split('__')\n",
    "    \n",
    "    return [a[0]]+a[1].split('_')\n",
    "\n",
    "data = []\n",
    "for shp in shps:\n",
    "    data.append(split_name(shp))"
   ]
  },
  {
   "cell_type": "code",
   "execution_count": null,
   "id": "602a15b8",
   "metadata": {},
   "outputs": [],
   "source": [
    "df = pd.DataFrame(data, columns=['id0','id1','id2','id3'])\n",
    "df"
   ]
  },
  {
   "cell_type": "code",
   "execution_count": null,
   "id": "cca42274",
   "metadata": {},
   "outputs": [],
   "source": [
    "data = dict(df.id2.value_counts())\n",
    "plt.figure(figsize=(10,15))\n",
    "keys = sorted(data.keys())\n",
    "plt.barh(keys, [data[k] for k in keys])\n",
    "plt.xlabel('Files count')\n",
    "plt.tight_layout()\n",
    "plt.savefig('../images/shp-stats.png')"
   ]
  }
 ],
 "metadata": {
  "kernelspec": {
   "display_name": "Python 3 (ipykernel)",
   "language": "python",
   "name": "python3"
  },
  "language_info": {
   "codemirror_mode": {
    "name": "ipython",
    "version": 3
   },
   "file_extension": ".py",
   "mimetype": "text/x-python",
   "name": "python",
   "nbconvert_exporter": "python",
   "pygments_lexer": "ipython3",
   "version": "3.10.8"
  }
 },
 "nbformat": 4,
 "nbformat_minor": 5
}
