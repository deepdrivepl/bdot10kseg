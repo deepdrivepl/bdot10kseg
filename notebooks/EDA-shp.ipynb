{
 "cells": [
  {
   "cell_type": "code",
   "execution_count": null,
   "id": "aa73675b",
   "metadata": {},
   "outputs": [],
   "source": [
    "import geopandas as gpd\n",
    "import pandas as pd\n",
    "from glob import glob\n",
    "import matplotlib.pyplot as plt"
   ]
  },
  {
   "cell_type": "code",
   "execution_count": null,
   "id": "58e63729",
   "metadata": {},
   "outputs": [],
   "source": [
    "pd.set_option('display.max_columns', None)"
   ]
  },
  {
   "cell_type": "code",
   "execution_count": null,
   "id": "40386199",
   "metadata": {},
   "outputs": [],
   "source": [
    "shps = glob('data/unzipped/SHP/*.shp')\n",
    "shps"
   ]
  },
  {
   "cell_type": "code",
   "execution_count": null,
   "id": "062f9f59",
   "metadata": {
    "scrolled": false
   },
   "outputs": [],
   "source": [
    "loaded_shps = []\n",
    "for fname in shps:\n",
    "    if 'PL.PZGiK.337.0201' not in fname:\n",
    "        continue\n",
    "    print(fname)\n",
    "    shp = gpd.read_file(fname)\n",
    "    loaded_shps.append(shp)"
   ]
  },
  {
   "cell_type": "code",
   "execution_count": null,
   "id": "bdfb273d",
   "metadata": {},
   "outputs": [],
   "source": [
    "merged = df3 = pd.concat(loaded_shps, ignore_index=True, sort=False)\n",
    "merged"
   ]
  },
  {
   "cell_type": "code",
   "execution_count": null,
   "id": "9fa58be4",
   "metadata": {},
   "outputs": [],
   "source": [
    "merged.plot(figsize=(30,30))"
   ]
  },
  {
   "cell_type": "code",
   "execution_count": null,
   "id": "c316521e",
   "metadata": {
    "scrolled": false
   },
   "outputs": [],
   "source": [
    "for fname in shps:\n",
    "    if 'PL.PZGiK.337.0201' not in fname:\n",
    "        continue\n",
    "    print(fname)\n",
    "    shp = gpd.read_file(fname)\n",
    "    shp.plot(figsize=(30,30))\n",
    "    plt.show()\n",
    "#     print(shp.info())\n",
    "    print(shp.X_ZRODLOG.unique())\n",
    "    print(shp.KOD10K.unique())\n",
    "#     print(shp.RODZAJ.unique())\n",
    "    print('-'*40)\n",
    "    print()"
   ]
  },
  {
   "cell_type": "code",
   "execution_count": null,
   "id": "b3b58368",
   "metadata": {},
   "outputs": [],
   "source": [
    "shp = gpd.read_file('data/unzipped/SHP\\\\PL.PZGiK.337.0201__OT_PTZB_A.shp')\n",
    "shp.plot(figsize=(30,30))\n",
    "# plt.xlim(270000,275000)\n",
    "# plt.ylim(382000,387000)"
   ]
  },
  {
   "cell_type": "code",
   "execution_count": null,
   "id": "e9931001",
   "metadata": {},
   "outputs": [],
   "source": [
    "shp"
   ]
  },
  {
   "cell_type": "code",
   "execution_count": null,
   "id": "6f547a9d",
   "metadata": {},
   "outputs": [],
   "source": [
    "shp.geometry.iloc[1]"
   ]
  },
  {
   "cell_type": "code",
   "execution_count": null,
   "id": "77dd25ab",
   "metadata": {},
   "outputs": [],
   "source": [
    "shp.iloc[1]"
   ]
  }
 ],
 "metadata": {
  "kernelspec": {
   "display_name": "Python 3 (ipykernel)",
   "language": "python",
   "name": "python3"
  },
  "language_info": {
   "codemirror_mode": {
    "name": "ipython",
    "version": 3
   },
   "file_extension": ".py",
   "mimetype": "text/x-python",
   "name": "python",
   "nbconvert_exporter": "python",
   "pygments_lexer": "ipython3",
   "version": "3.10.8"
  }
 },
 "nbformat": 4,
 "nbformat_minor": 5
}
