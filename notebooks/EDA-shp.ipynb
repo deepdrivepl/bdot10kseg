{
 "cells": [
  {
   "cell_type": "code",
   "execution_count": null,
   "id": "f5b59912",
   "metadata": {},
   "outputs": [],
   "source": [
    "import geopandas as gpd\n",
    "import pandas as pd\n",
    "from glob import glob\n",
    "import matplotlib.pyplot as plt"
   ]
  },
  {
   "cell_type": "code",
   "execution_count": null,
   "id": "3503e321",
   "metadata": {},
   "outputs": [],
   "source": [
    "pd.set_option('display.max_columns', None)"
   ]
  },
  {
   "cell_type": "code",
   "execution_count": null,
   "id": "1e36b73d",
   "metadata": {},
   "outputs": [],
   "source": [
    "shps = glob('data/unzipped/SHP/*.shp')\n",
    "shps"
   ]
  },
  {
   "cell_type": "code",
   "execution_count": null,
   "id": "6eca127d",
   "metadata": {
    "scrolled": false
   },
   "outputs": [],
   "source": [
    "loaded_shps = []\n",
    "for fname in shps:\n",
    "    if 'PL.PZGiK.337.0201' not in fname:\n",
    "        continue\n",
    "    print(fname)\n",
    "    shp = gpd.read_file(fname)\n",
    "    loaded_shps.append(shp)"
   ]
  },
  {
   "cell_type": "code",
   "execution_count": null,
   "id": "7a442856",
   "metadata": {},
   "outputs": [],
   "source": [
    "merged = df3 = pd.concat(loaded_shps, ignore_index=True, sort=False)\n",
    "merged"
   ]
  },
  {
   "cell_type": "code",
   "execution_count": null,
   "id": "c4af1d87",
   "metadata": {},
   "outputs": [],
   "source": [
    "merged.plot(figsize=(30,30))"
   ]
  },
  {
   "cell_type": "code",
   "execution_count": null,
   "id": "34c267b3",
   "metadata": {
    "scrolled": false
   },
   "outputs": [],
   "source": [
    "for fname in shps:\n",
    "    if 'PL.PZGiK.337.0201' not in fname:\n",
    "        continue\n",
    "    print(fname)\n",
    "    shp = gpd.read_file(fname)\n",
    "    shp.plot(figsize=(30,30))\n",
    "    plt.show()\n",
    "#     print(shp.info())\n",
    "    print(shp.X_ZRODLOG.unique())\n",
    "    print(shp.KOD10K.unique())\n",
    "#     print(shp.RODZAJ.unique())\n",
    "    print('-'*40)\n",
    "    print()"
   ]
  },
  {
   "cell_type": "code",
   "execution_count": null,
   "id": "1982f006",
   "metadata": {},
   "outputs": [],
   "source": [
    "shp = gpd.read_file('data/unzipped/SHP\\\\PL.PZGiK.337.0201__OT_PTZB_A.shp')\n",
    "shp.plot(figsize=(30,30))\n",
    "# plt.xlim(270000,275000)\n",
    "# plt.ylim(382000,387000)"
   ]
  },
  {
   "cell_type": "code",
   "execution_count": null,
   "id": "d76d3031",
   "metadata": {},
   "outputs": [],
   "source": [
    "shp"
   ]
  },
  {
   "cell_type": "code",
   "execution_count": null,
   "id": "80066417",
   "metadata": {},
   "outputs": [],
   "source": [
    "shp.geometry.iloc[1]"
   ]
  },
  {
   "cell_type": "code",
   "execution_count": null,
   "id": "db3fa6fa",
   "metadata": {},
   "outputs": [],
   "source": [
    "shp.iloc[1]"
   ]
  }
 ],
 "metadata": {
  "kernelspec": {
   "display_name": "Python 3",
   "language": "python",
   "name": "python3"
  },
  "language_info": {
   "codemirror_mode": {
    "name": "ipython",
    "version": 3
   },
   "file_extension": ".py",
   "mimetype": "text/x-python",
   "name": "python",
   "nbconvert_exporter": "python",
   "pygments_lexer": "ipython3",
   "version": "3.7.6"
  }
 },
 "nbformat": 4,
 "nbformat_minor": 5
}
