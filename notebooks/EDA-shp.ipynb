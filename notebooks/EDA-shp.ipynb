{
 "cells": [
  {
   "cell_type": "code",
   "execution_count": null,
   "id": "f5b59912",
   "metadata": {},
   "outputs": [],
   "source": [
    "import geopandas as gpd\n",
    "import pandas as pd\n",
    "from glob import glob\n",
    "from tqdm import tqdm\n",
    "import matplotlib.pyplot as plt\n",
    "from collections import defaultdict"
   ]
  },
  {
   "cell_type": "code",
   "execution_count": null,
   "id": "3503e321",
   "metadata": {},
   "outputs": [],
   "source": [
    "pd.set_option('display.max_columns', None)"
   ]
  },
  {
   "cell_type": "code",
   "execution_count": null,
   "id": "1e36b73d",
   "metadata": {},
   "outputs": [],
   "source": [
    "shps = glob('Z:/ortofotomapa/shp/unzipped/SHP/*.shp')\n",
    "len(shps)"
   ]
  },
  {
   "cell_type": "code",
   "execution_count": null,
   "id": "6eca127d",
   "metadata": {
    "scrolled": false
   },
   "outputs": [],
   "source": [
    "df_categories = pd.read_csv('../data/BDOT10k-categories.csv')\n",
    "df_categories"
   ]
  },
  {
   "cell_type": "code",
   "execution_count": null,
   "id": "7a442856",
   "metadata": {},
   "outputs": [],
   "source": [
    "cats = []\n",
    "for fn in shps:\n",
    "    cat = fn.replace('\\\\','/').split('/')[-1].split('_')[-2]\n",
    "    cats.append({'fname':fn, 'Kod0':cat[:2], 'Kod1':cat})\n",
    "#     print(cat, df_categories[df_categories['Kod.1']==cat]['Nazwa obiektu'].tolist())\n",
    "#     print(cat)\n",
    "#     break\n",
    "df_fnames = pd.DataFrame(cats)\n",
    "df_fnames"
   ]
  },
  {
   "cell_type": "code",
   "execution_count": null,
   "id": "c4af1d87",
   "metadata": {},
   "outputs": [],
   "source": [
    "df_fnames[df_fnames.Kod0=='PT']"
   ]
  },
  {
   "cell_type": "markdown",
   "id": "9b41584d",
   "metadata": {},
   "source": [
    "# Compute stats"
   ]
  },
  {
   "cell_type": "code",
   "execution_count": null,
   "id": "f0cf895b",
   "metadata": {},
   "outputs": [],
   "source": [
    "kod_stats = defaultdict(int)\n",
    "for fname in tqdm(shps):\n",
    "    try:\n",
    "        shp = gpd.read_file(fname)\n",
    "        cnts = dict(shp.X_KOD.value_counts())\n",
    "        for k in cnts:\n",
    "            kod_stats[k] += cnts[k]\n",
    "    except Exception as e:\n",
    "        print(fname, e)"
   ]
  },
  {
   "cell_type": "code",
   "execution_count": null,
   "id": "f9c7863a",
   "metadata": {},
   "outputs": [],
   "source": [
    "for k in list(kod_stats.keys()):\n",
    "    if len(k)!=6:\n",
    "        del kod_stats[k]\n",
    "        continue\n",
    "#     print(len(k))\n",
    "#     if len(k)<6:\n",
    "    print(k)"
   ]
  },
  {
   "cell_type": "code",
   "execution_count": null,
   "id": "0ac8cbb8",
   "metadata": {},
   "outputs": [],
   "source": [
    "plt.figure(figsize=(10,60))\n",
    "plt.barh(list(kod_stats.keys()), kod_stats.values())\n",
    "plt.xscale('log')\n",
    "plt.tight_layout()\n",
    "# kod_stats"
   ]
  },
  {
   "cell_type": "code",
   "execution_count": null,
   "id": "e5bf6aef",
   "metadata": {},
   "outputs": [],
   "source": [
    "shp.geometry.plot()"
   ]
  },
  {
   "cell_type": "markdown",
   "id": "93db540b",
   "metadata": {},
   "source": [
    "# PT - Pokrycie Terenu"
   ]
  },
  {
   "cell_type": "code",
   "execution_count": null,
   "id": "a5cc4efc",
   "metadata": {},
   "outputs": [],
   "source": [
    "loaded_shps_pt = []\n",
    "for fname in tqdm(df_fnames[df_fnames.Kod0=='PT'].fname.iloc):\n",
    "#     print(fname)\n",
    "    shp = gpd.read_file(fname)\n",
    "    loaded_shps_pt.append(shp)"
   ]
  },
  {
   "cell_type": "code",
   "execution_count": null,
   "id": "6c829847",
   "metadata": {},
   "outputs": [],
   "source": [
    "merged_pt = pd.concat(loaded_shps_pt, ignore_index=True, sort=False)"
   ]
  },
  {
   "cell_type": "code",
   "execution_count": null,
   "id": "7ebdd8be",
   "metadata": {},
   "outputs": [],
   "source": [
    "merged_pt"
   ]
  },
  {
   "cell_type": "code",
   "execution_count": null,
   "id": "1982f006",
   "metadata": {},
   "outputs": [],
   "source": [
    "merged_pt.geometry.plot(figsize=(30,30))"
   ]
  },
  {
   "cell_type": "markdown",
   "id": "97eb7b6f",
   "metadata": {},
   "source": [
    "# BU"
   ]
  },
  {
   "cell_type": "code",
   "execution_count": null,
   "id": "d76d3031",
   "metadata": {},
   "outputs": [],
   "source": [
    "loaded_shps_bu = []\n",
    "for i,fname in enumerate(tqdm(df_fnames[df_fnames.Kod1=='BUBD'].fname.iloc)):\n",
    "    shp = gpd.read_file(fname)\n",
    "    loaded_shps_bu.append(shp)\n",
    "#     if i>=6000:\n",
    "#         break\n",
    "merged_bu = pd.concat(loaded_shps_bu, ignore_index=True, sort=False)"
   ]
  },
  {
   "cell_type": "code",
   "execution_count": null,
   "id": "80066417",
   "metadata": {},
   "outputs": [],
   "source": [
    "merged_bu"
   ]
  },
  {
   "cell_type": "code",
   "execution_count": null,
   "id": "db3fa6fa",
   "metadata": {},
   "outputs": [],
   "source": [
    "merged_bu.geometry.plot(figsize=(30,30))"
   ]
  },
  {
   "cell_type": "code",
   "execution_count": null,
   "id": "93f1c163",
   "metadata": {},
   "outputs": [],
   "source": []
  }
 ],
 "metadata": {
  "kernelspec": {
   "display_name": "Python 3",
   "language": "python",
   "name": "python3"
  },
  "language_info": {
   "codemirror_mode": {
    "name": "ipython",
    "version": 3
   },
   "file_extension": ".py",
   "mimetype": "text/x-python",
   "name": "python",
   "nbconvert_exporter": "python",
   "pygments_lexer": "ipython3",
   "version": "3.7.6"
  }
 },
 "nbformat": 4,
 "nbformat_minor": 5
}
