{
 "cells": [
  {
   "cell_type": "code",
   "execution_count": null,
   "id": "e3357a29",
   "metadata": {},
   "outputs": [],
   "source": [
    "import numpy as np\n",
    "import matplotlib.pyplot as plt\n",
    "from tqdm import tqdm"
   ]
  },
  {
   "cell_type": "code",
   "execution_count": null,
   "id": "f5bace23",
   "metadata": {},
   "outputs": [],
   "source": [
    "x=611080.3983777018\n",
    "y=472820.18991934415"
   ]
  },
  {
   "cell_type": "code",
   "execution_count": null,
   "id": "ec45278f",
   "metadata": {},
   "outputs": [],
   "source": [
    "import re\n",
    "import service_api\n",
    "from models import Ortofotomapa\n",
    "\n",
    "\n",
    "URL = \"https://mapy.geoportal.gov.pl/wss/service/PZGIK/ORTO/WMS/SkorowidzeWgAktualnosci?\"\n",
    "c = re.compile(\"\\{{1}.*\\}{1}\")\n",
    "\n",
    "\n",
    "def getOrtoListbyPoint1992(x,y):\n",
    "    \"\"\"Zwraca listę dostępnych do pobrania ortofotomap na podstawie\n",
    "    zapytania GetFeatureInfo z usługi WMS\"\"\"\n",
    "    LAYERS = [\n",
    "        'SkorowidzeOrtofotomapyZasiegiStarsze',\n",
    "        'SkorowidzeOrtofotomapyStarsze',\n",
    "        'SkorowidzeOrtofotomapyZasiegi2021',\n",
    "        'SkorowidzeOrtofotomapy2021',\n",
    "        'SkorowidzeOrtofotomapyZasiegi2022',\n",
    "        'SkorowidzeOrtofotomapy2022',\n",
    "        'SkorowidzeOrtofotomapyZasiegi2020',\n",
    "        'SkorowidzeOrtofotomapy2020'\n",
    "    ]\n",
    "    PARAMS = {\n",
    "        'SERVICE': 'WMS',\n",
    "        'request': 'GetFeatureInfo',\n",
    "        'version': '1.3.0',\n",
    "        'layers': ','.join(LAYERS),\n",
    "        'styles': '',\n",
    "        'crs': 'EPSG:2180',\n",
    "        'bbox': '%f,%f,%f,%f' % (y-500, x-500, y+500, x+500),\n",
    "        'width': '101',\n",
    "        'height': '101',\n",
    "        'format': 'image/png',\n",
    "        'transparent': 'true',\n",
    "        'query_layers': ','.join(LAYERS),\n",
    "        'i': '50',\n",
    "        'j': '50',\n",
    "        'INFO_FORMAT': 'text/html'\n",
    "    }\n",
    "    resp = service_api.getRequest(params=PARAMS, url=URL)\n",
    "#     print(resp)\n",
    "    if resp[0]:\n",
    "        ortos = c.findall(resp[1])\n",
    "        ortofotomapaList = []\n",
    "        for orto in ortos:\n",
    "            element = orto.strip(\"{\").strip(\"}\").split(',')\n",
    "            params = {}\n",
    "            for el in element:\n",
    "                item = el.strip().split(':')\n",
    "                val = item[1].strip('\"')\n",
    "                if len(item) > 2:\n",
    "                    val = \":\".join(item[1:]).strip('\"')\n",
    "                params[item[0]] = val\n",
    "#             print(params)\n",
    "#             ortofotomapa = Ortofotomapa(**params)\n",
    "#             ortofotomapaList.append(ortofotomapa)\n",
    "            ortofotomapaList.append(params)\n",
    "        return ortofotomapaList\n",
    "    else:\n",
    "        return []\n"
   ]
  },
  {
   "cell_type": "code",
   "execution_count": null,
   "id": "c38df04d",
   "metadata": {},
   "outputs": [],
   "source": [
    "res = getOrtoListbyPoint1992(x,y)"
   ]
  },
  {
   "cell_type": "code",
   "execution_count": null,
   "id": "7738486f",
   "metadata": {},
   "outputs": [],
   "source": [
    "res"
   ]
  },
  {
   "cell_type": "code",
   "execution_count": null,
   "id": "24078d42",
   "metadata": {
    "scrolled": false
   },
   "outputs": [],
   "source": [
    "for i in range(10):\n",
    "    res = getOrtoListbyPoint1992(x+500*i,y)\n",
    "    for r in res:\n",
    "        if int(r['aktualnoscRok'])>=2020:\n",
    "            print(r['wielkoscPiksela'])\n",
    "            print(r['zrodloDanych'])\n",
    "            print(r['kolor'])\n",
    "            print(r['aktualnosc'])\n",
    "            print(r['calyArkuszWyeplnionyTrescia'])\n",
    "            print(r['ukladWspolrzednych'])\n",
    "            print(r['url'])\n",
    "            print(r['godlo'])\n",
    "            print('\\n')"
   ]
  },
  {
   "cell_type": "code",
   "execution_count": null,
   "id": "c180431c",
   "metadata": {},
   "outputs": [],
   "source": [
    "dir(res[0])"
   ]
  },
  {
   "cell_type": "markdown",
   "id": "782008f6",
   "metadata": {},
   "source": [
    "# geo -> get all points in PL"
   ]
  },
  {
   "cell_type": "code",
   "execution_count": null,
   "id": "5ff85f52",
   "metadata": {},
   "outputs": [],
   "source": [
    "import geopandas as gpd"
   ]
  },
  {
   "cell_type": "code",
   "execution_count": null,
   "id": "4440ddfa",
   "metadata": {},
   "outputs": [],
   "source": [
    "from shapely.geometry import Polygon,Point"
   ]
  },
  {
   "cell_type": "code",
   "execution_count": null,
   "id": "9c21bdbd",
   "metadata": {},
   "outputs": [],
   "source": [
    "gpd.datasets.available"
   ]
  },
  {
   "cell_type": "code",
   "execution_count": null,
   "id": "53820f0f",
   "metadata": {},
   "outputs": [],
   "source": [
    "world_filepath = gpd.datasets.get_path('naturalearth_lowres')\n",
    "world = gpd.read_file(world_filepath)\n",
    "world.head()"
   ]
  },
  {
   "cell_type": "code",
   "execution_count": null,
   "id": "fdd2a2d8",
   "metadata": {},
   "outputs": [],
   "source": [
    "poland = world.loc[world['name'] == 'Poland']\n",
    "poland.plot()"
   ]
  },
  {
   "cell_type": "code",
   "execution_count": null,
   "id": "8dd74681",
   "metadata": {},
   "outputs": [],
   "source": [
    "pl = Polygon(poland.geometry.iloc[0])\n",
    "pl"
   ]
  },
  {
   "cell_type": "code",
   "execution_count": null,
   "id": "4d1e5c83",
   "metadata": {},
   "outputs": [],
   "source": [
    "pl.exterior"
   ]
  },
  {
   "cell_type": "code",
   "execution_count": null,
   "id": "fd7b71f3",
   "metadata": {},
   "outputs": [],
   "source": [
    "[len(_) for _ in pl.exterior.xy]"
   ]
  },
  {
   "cell_type": "code",
   "execution_count": null,
   "id": "9de0b492",
   "metadata": {},
   "outputs": [],
   "source": [
    "xys = np.array(pl.exterior.xy)\n",
    "xys.shape"
   ]
  },
  {
   "cell_type": "code",
   "execution_count": null,
   "id": "6607fe8b",
   "metadata": {},
   "outputs": [],
   "source": [
    "plt.scatter(xys[0,:],xys[1,:])"
   ]
  },
  {
   "cell_type": "code",
   "execution_count": null,
   "id": "9c8b49a6",
   "metadata": {},
   "outputs": [],
   "source": [
    "pl_minx, pl_maxx, pl_miny, pl_maxy = np.min(xys[0]), np.max(xys[0]), np.min(xys[1]), np.max(xys[1])\n",
    "pl_minx, pl_maxx, pl_miny, pl_maxy"
   ]
  },
  {
   "cell_type": "code",
   "execution_count": null,
   "id": "e1f20935",
   "metadata": {},
   "outputs": [],
   "source": [
    "plt.scatter(xys[0,:],xys[1,:])\n",
    "plt.plot((pl_minx, pl_maxx,pl_maxx,pl_minx,pl_minx),(pl_miny,pl_miny, pl_maxy, pl_maxy,pl_miny),'r')"
   ]
  },
  {
   "cell_type": "code",
   "execution_count": null,
   "id": "1a17ed21",
   "metadata": {},
   "outputs": [],
   "source": [
    "pl.contains(Point(20,52))"
   ]
  },
  {
   "cell_type": "code",
   "execution_count": null,
   "id": "f21e4e56",
   "metadata": {},
   "outputs": [],
   "source": [
    "pl.contains(Point(20,49))"
   ]
  },
  {
   "cell_type": "markdown",
   "id": "d561776d",
   "metadata": {},
   "source": [
    "# WGS84 (epsg:4326) -> PL1992 (EPSG:2180)"
   ]
  },
  {
   "cell_type": "code",
   "execution_count": null,
   "id": "730af747",
   "metadata": {},
   "outputs": [],
   "source": [
    "from pyproj import Proj, transform"
   ]
  },
  {
   "cell_type": "code",
   "execution_count": null,
   "id": "a98e37fe",
   "metadata": {},
   "outputs": [],
   "source": [
    "from pyproj import Transformer\n",
    "transformer = Transformer.from_crs(\"EPSG:4326\", 'EPSG:2180')\n",
    "transformer.transform(52,20)"
   ]
  },
  {
   "cell_type": "code",
   "execution_count": null,
   "id": "33fd3c5f",
   "metadata": {},
   "outputs": [],
   "source": [
    "xdiff = 0.025\n",
    "ydiff = 0.015\n",
    "print(np.array(transformer.transform(52,20)) - np.array(transformer.transform(52-xdiff,20-ydiff)))\n",
    "\n",
    "xs = np.arange(pl_minx, pl_maxx, xdiff)\n",
    "ys = np.arange(pl_miny, pl_maxy, ydiff)\n",
    "xs.shape, ys.shape"
   ]
  },
  {
   "cell_type": "code",
   "execution_count": null,
   "id": "379bdc66",
   "metadata": {},
   "outputs": [],
   "source": [
    "cart = np.transpose([np.tile(xs, len(ys)), np.repeat(ys, len(xs))])\n",
    "cart.shape"
   ]
  },
  {
   "cell_type": "code",
   "execution_count": null,
   "id": "8815272e",
   "metadata": {},
   "outputs": [],
   "source": [
    "wgs84s = []\n",
    "for x,y in tqdm(cart):\n",
    "    if pl.contains(Point(x,y)):\n",
    "        wgs84s.append((x,y))\n",
    "wgs84s = np.array(wgs84s)\n",
    "wgs84s.shape"
   ]
  },
  {
   "cell_type": "code",
   "execution_count": null,
   "id": "823f6a6a",
   "metadata": {},
   "outputs": [],
   "source": [
    "plt.figure(figsize=(20,20))\n",
    "plt.scatter(wgs84s[:,0],wgs84s[:,1])"
   ]
  },
  {
   "cell_type": "markdown",
   "id": "a16a41ee",
   "metadata": {},
   "source": [
    "# get metadata"
   ]
  },
  {
   "cell_type": "code",
   "execution_count": null,
   "id": "cdf911c8",
   "metadata": {},
   "outputs": [],
   "source": [
    "import time\n",
    "from random import shuffle"
   ]
  },
  {
   "cell_type": "code",
   "execution_count": null,
   "id": "5c6d6437",
   "metadata": {},
   "outputs": [],
   "source": [
    "wgs84s = wgs84s.tolist()\n",
    "shuffle(wgs84s)"
   ]
  },
  {
   "cell_type": "code",
   "execution_count": null,
   "id": "93626f2c",
   "metadata": {},
   "outputs": [],
   "source": [
    "def wrapper(x,y):\n",
    "    xx,yy = transformer.transform(y, x)\n",
    "    res = getOrtoListbyPoint1992(xx,yy)\n",
    "    return x,y,res"
   ]
  },
  {
   "cell_type": "code",
   "execution_count": null,
   "id": "260d5065",
   "metadata": {},
   "outputs": [],
   "source": []
  },
  {
   "cell_type": "code",
   "execution_count": null,
   "id": "731eae26",
   "metadata": {},
   "outputs": [],
   "source": [
    "import concurrent.futures"
   ]
  },
  {
   "cell_type": "code",
   "execution_count": null,
   "id": "53501b08",
   "metadata": {},
   "outputs": [],
   "source": [
    "metas = dict()\n",
    "with concurrent.futures.ThreadPoolExecutor() as executor:\n",
    "    futures = []\n",
    "    for xwgs,ywgs in tqdm(wgs84s):\n",
    "        futures.append(executor.submit(wrapper, x=xwgs,y=ywgs))\n",
    "    for future in tqdm(concurrent.futures.as_completed(futures)):\n",
    "        x,y,res = future.result()\n",
    "        metas[(x,y)] = res"
   ]
  },
  {
   "cell_type": "code",
   "execution_count": null,
   "id": "1285fb41",
   "metadata": {},
   "outputs": [],
   "source": []
  },
  {
   "cell_type": "code",
   "execution_count": null,
   "id": "7415ee34",
   "metadata": {},
   "outputs": [],
   "source": [
    "# printed=False\n",
    "# for xwgs,ywgs in tqdm(wgs84s):\n",
    "#     if (xwgs,ywgs) in metas:\n",
    "# #         print(xwgs,ywgs,'skipped')\n",
    "#         continue\n",
    "#     x,y = transformer.transform(ywgs, xwgs)\n",
    "#     res = getOrtoListbyPoint1992(x,y)\n",
    "#     metas[(xwgs,ywgs)] = res\n",
    "#     if not printed and len(res)>0:\n",
    "#         print(res)\n",
    "#         printed = True\n",
    "#     time.sleep(0.001)\n",
    "# len(metas)"
   ]
  },
  {
   "cell_type": "code",
   "execution_count": null,
   "id": "3c65f548",
   "metadata": {},
   "outputs": [],
   "source": [
    "len(metas),len(wgs84s)"
   ]
  },
  {
   "cell_type": "markdown",
   "id": "acbe124c",
   "metadata": {},
   "source": [
    "# VIZ"
   ]
  },
  {
   "cell_type": "code",
   "execution_count": null,
   "id": "fb47627d",
   "metadata": {},
   "outputs": [],
   "source": [
    "def decode_godlo(godlo):\n",
    "    g = godlo.split('-')\n",
    "    mn = g[0]=='M'\n",
    "    _34 = g[1]=='34'\n",
    "    _144 = int(g[2])-1\n",
    "    ABCD = {'A':(0,0),\n",
    "            'B':(1,0),\n",
    "            'C':(0,1),\n",
    "            'D':(1,1)}[g[3]]\n",
    "    abcd = {'a':(0,0),\n",
    "            'b':(1,0),\n",
    "            'c':(0,1),\n",
    "            'd':(1,1)}[g[4]]\n",
    "    _1 =  {'1':(0,0),\n",
    "            '2':(1,0),\n",
    "            '3':(0,1),\n",
    "            '4':(1,1)}[g[5]]\n",
    "    _2 =  {'1':(0,0),\n",
    "            '2':(1,0),\n",
    "            '3':(0,1),\n",
    "            '4':(1,1)}[g[6]]\n",
    "    \n",
    "    y12 = _144//12\n",
    "    x12 = _144 - 12*y12\n",
    "    \n",
    "    xx = 16*12*_34  + x12 * 16 + ABCD[0]*8 + abcd[0]*4 + _1[0]*2 + _2[0]\n",
    "    yy = 16*12*mn + y12 * 16 + ABCD[1]*8 + abcd[1]*4 + _1[1]*2 + _2[1]\n",
    "    \n",
    "    \n",
    "    return xx,yy\n",
    "    \n",
    "    \n"
   ]
  },
  {
   "cell_type": "code",
   "execution_count": null,
   "id": "cc8890b3",
   "metadata": {},
   "outputs": [],
   "source": [
    "a = np.zeros((16*12*2,16*12*2))\n",
    "for m in metas.values():\n",
    "    for mm in m:\n",
    "        if int(mm['aktualnoscRok'])>2018 and mm['ukladWspolrzednych']=='PL-1992':\n",
    "            x,y = decode_godlo(mm['godlo'])\n",
    "            a[y,x] += 1\n",
    "plt.figure(figsize=(10,10))\n",
    "plt.imshow(a,vmin=0,vmax=a.max(), cmap='gray');"
   ]
  },
  {
   "cell_type": "code",
   "execution_count": null,
   "id": "bcdaae9e",
   "metadata": {},
   "outputs": [],
   "source": [
    "mm"
   ]
  },
  {
   "cell_type": "code",
   "execution_count": null,
   "id": "e30662bd",
   "metadata": {},
   "outputs": [],
   "source": [
    "metas"
   ]
  },
  {
   "cell_type": "code",
   "execution_count": null,
   "id": "d4906a48",
   "metadata": {},
   "outputs": [],
   "source": [
    "godlos=dict()\n",
    "for m in metas.values():\n",
    "    for mm in m:\n",
    "        if int(mm['aktualnoscRok'])>2018 and mm['ukladWspolrzednych']=='PL-1992' and mm['kolor']=='RGB':\n",
    "            if mm['godlo'] not in godlos:\n",
    "                godlos[mm['godlo']] = mm\n",
    "                continue\n",
    "            if int(godlos[mm['godlo']]['aktualnoscRok']) < int(mm['aktualnoscRok']):\n",
    "                godlos[mm['godlo']] = mm"
   ]
  },
  {
   "cell_type": "code",
   "execution_count": null,
   "id": "d0c5bf52",
   "metadata": {},
   "outputs": [],
   "source": [
    "len(godlos)"
   ]
  },
  {
   "cell_type": "code",
   "execution_count": null,
   "id": "39b2eabb",
   "metadata": {},
   "outputs": [],
   "source": [
    "for g in godlos:\n",
    "    print(godlos[g])\n",
    "    break"
   ]
  },
  {
   "cell_type": "code",
   "execution_count": null,
   "id": "af3ae2f9",
   "metadata": {},
   "outputs": [],
   "source": [
    "import cv2"
   ]
  },
  {
   "cell_type": "code",
   "execution_count": null,
   "id": "ab7c0d9d",
   "metadata": {},
   "outputs": [],
   "source": [
    "cv2.imwrite('render.png',a)"
   ]
  },
  {
   "cell_type": "markdown",
   "id": "65a43b89",
   "metadata": {},
   "source": [
    "# the download!"
   ]
  },
  {
   "cell_type": "code",
   "execution_count": null,
   "id": "fcd03d3c",
   "metadata": {},
   "outputs": [],
   "source": [
    "import os\n",
    "import urllib.request\n"
   ]
  },
  {
   "cell_type": "code",
   "execution_count": null,
   "id": "108b8126",
   "metadata": {},
   "outputs": [],
   "source": [
    "download_dir = 'Z:\\ortofotomapa\\images'"
   ]
  },
  {
   "cell_type": "code",
   "execution_count": null,
   "id": "83a89854",
   "metadata": {},
   "outputs": [],
   "source": [
    "for g in tqdm(list(godlos.keys())):\n",
    "    fname = download_dir + '/' + godlos[g]['url'].split('/')[-1]\n",
    "    if not os.path.exists(fname):\n",
    "        try:\n",
    "            urllib.request.urlretrieve(godlos[g]['url'], fname)\n",
    "        except Exception as e:\n",
    "            print(e)\n",
    "            print(fname)\n",
    "            os.remove(fname)\n",
    "        time.sleep(0.1)\n"
   ]
  },
  {
   "cell_type": "code",
   "execution_count": null,
   "id": "a9e44235",
   "metadata": {},
   "outputs": [],
   "source": [
    "fname"
   ]
  },
  {
   "cell_type": "code",
   "execution_count": null,
   "id": "75bddf6d",
   "metadata": {},
   "outputs": [],
   "source": [
    "def download_wrapper(url, filename):\n",
    "    try:\n",
    "#         print(url)\n",
    "        urllib.request.urlretrieve(url, filename)\n",
    "        time.sleep(5)\n",
    "        return (True, filename)\n",
    "    except Exception as e:\n",
    "        print(e)\n",
    "        print(filename)\n",
    "        time.sleep(60)\n",
    "        if os.path.exists(filename):\n",
    "            os.remove(filename)\n",
    "        return (False, filename)\n",
    "\n",
    "download_results = []\n",
    "def chunks(lst, n):\n",
    "    \"\"\"Yield successive n-sized chunks from lst.\"\"\"\n",
    "    for i in range(0, len(lst), n):\n",
    "        yield lst[i:i + n]\n",
    "for chunk in tqdm(list(chunks(list(godlos.keys()), 10)),desc='Chunks'):\n",
    "    with concurrent.futures.ThreadPoolExecutor() as executor:\n",
    "        futures = []\n",
    "        for g in chunk:\n",
    "            fname = download_dir + '/' + godlos[g]['url'].split('/')[-1]\n",
    "            if not os.path.exists(fname):\n",
    "                futures.append(executor.submit(download_wrapper, url=godlos[g]['url'], filename=fname))\n",
    "        if len(futures)>0:\n",
    "            print(\"tasks:\",len(futures))\n",
    "            for future in tqdm(concurrent.futures.as_completed(futures)):\n",
    "                download_results.append(future.result())\n",
    "            time.sleep(10)\n"
   ]
  },
  {
   "cell_type": "code",
   "execution_count": null,
   "id": "336e9f51",
   "metadata": {},
   "outputs": [],
   "source": [
    "# !dir \n",
    "#Z:\\ortofotomapa\\images\\75161_1072048_N-34-139-C-d-1-2.tif\n"
   ]
  },
  {
   "cell_type": "code",
   "execution_count": null,
   "id": "eaec9651",
   "metadata": {},
   "outputs": [],
   "source": []
  }
 ],
 "metadata": {
  "kernelspec": {
   "display_name": "Python 3",
   "language": "python",
   "name": "python3"
  },
  "language_info": {
   "codemirror_mode": {
    "name": "ipython",
    "version": 3
   },
   "file_extension": ".py",
   "mimetype": "text/x-python",
   "name": "python",
   "nbconvert_exporter": "python",
   "pygments_lexer": "ipython3",
   "version": "3.7.6"
  }
 },
 "nbformat": 4,
 "nbformat_minor": 5
}
