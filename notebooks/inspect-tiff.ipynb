{
 "cells": [
  {
   "cell_type": "code",
   "execution_count": null,
   "id": "130087f0",
   "metadata": {},
   "outputs": [],
   "source": [
    "import cv2\n",
    "from glob import glob\n",
    "import numpy as np\n",
    "import matplotlib.pyplot as plt"
   ]
  },
  {
   "cell_type": "code",
   "execution_count": null,
   "id": "ce5460e0",
   "metadata": {},
   "outputs": [],
   "source": [
    "image_dir='Z:/ortofotomapa/images/'\n",
    "tiffs = glob(image_dir+'/*.tif')\n",
    "len(tiffs)"
   ]
  },
  {
   "cell_type": "code",
   "execution_count": null,
   "id": "41500c5a",
   "metadata": {},
   "outputs": [],
   "source": [
    "fname = tiffs[0]\n",
    "print(fname)"
   ]
  },
  {
   "cell_type": "code",
   "execution_count": null,
   "id": "344a7f01",
   "metadata": {},
   "outputs": [],
   "source": [
    "img = cv2.imread(fname)\n",
    "img.shape"
   ]
  },
  {
   "cell_type": "code",
   "execution_count": null,
   "id": "b2d88967",
   "metadata": {},
   "outputs": [],
   "source": [
    "plt.imshow(img[:,:,::-1])"
   ]
  },
  {
   "cell_type": "markdown",
   "id": "abaa21d3",
   "metadata": {},
   "source": [
    "# Rasterio"
   ]
  },
  {
   "cell_type": "code",
   "execution_count": null,
   "id": "bbba521e",
   "metadata": {},
   "outputs": [],
   "source": [
    "import rasterio\n",
    "from rasterio.plot import show"
   ]
  },
  {
   "cell_type": "code",
   "execution_count": null,
   "id": "27191393",
   "metadata": {},
   "outputs": [],
   "source": [
    "raster = rasterio.open(fname)\n",
    "show(raster)"
   ]
  },
  {
   "cell_type": "code",
   "execution_count": null,
   "id": "fb3908f7",
   "metadata": {},
   "outputs": [],
   "source": [
    "dir(raster)"
   ]
  },
  {
   "cell_type": "code",
   "execution_count": null,
   "id": "9bc403d1",
   "metadata": {
    "scrolled": false
   },
   "outputs": [],
   "source": [
    "print(img.width, img.height)\n",
    "print(img.crs)\n",
    "print(img.transform)\n",
    "print(img.count)\n",
    "print(img.indexes)\n",
    "print(img.bounds)"
   ]
  },
  {
   "cell_type": "code",
   "execution_count": null,
   "id": "ffdc8bfb",
   "metadata": {},
   "outputs": [],
   "source": [
    "print(img.transform)\n"
   ]
  },
  {
   "cell_type": "code",
   "execution_count": null,
   "id": "71ca4713",
   "metadata": {},
   "outputs": [],
   "source": [
    "img.transform * (0,0), img.transform * (img.width, img.height)"
   ]
  },
  {
   "cell_type": "markdown",
   "id": "327bf4c4",
   "metadata": {},
   "source": [
    "# EOMaps?"
   ]
  },
  {
   "cell_type": "code",
   "execution_count": null,
   "id": "69b2e3cf",
   "metadata": {},
   "outputs": [],
   "source": [
    "# from eomaps import Maps\n",
    "\n",
    "\n",
    "# m = Maps(crs=2180, figsize=(10, 10))\n",
    "# m.add_wms.OpenStreetMap.add_layer.stamen_terrain()\n",
    "# # plot shapefile (zorder=2 to be on top of the DEM)\n",
    "# # m.add_gdf(shp_data, column=shp_data.VEGKOD, cmap=\"viridis\", ec=\"k\", lw=0.2, alpha=0.5, zorder=2)\n",
    "# # plot DEM\n",
    "# m2 = m.new_layer_from_file.GeoTIFF(tiffs[0], zorder=1)\n",
    "\n",
    "# m.ax.set_extent((589913.0408156103, 713614.6619114348, 7495264.310799116, 7618965.93189494),\n",
    "#                 Maps.CRS.epsg(2180))"
   ]
  },
  {
   "cell_type": "code",
   "execution_count": null,
   "id": "85be1551",
   "metadata": {},
   "outputs": [],
   "source": [
    "import geopandas as gpd"
   ]
  },
  {
   "cell_type": "code",
   "execution_count": null,
   "id": "4ce559d5",
   "metadata": {},
   "outputs": [],
   "source": [
    "\n",
    "shp_data = gpd.read_file(\"C:/Users/karol/projects/cufix/bdot10kseg/notebooks/data/unzipped/SHP/PL.PZGiK.333.0801__OT_BUBD_A.shp\")\n",
    "shp_data"
   ]
  },
  {
   "cell_type": "code",
   "execution_count": null,
   "id": "105f69fc",
   "metadata": {},
   "outputs": [],
   "source": [
    "plt.figure(figsize=(20,10))\n",
    "shp_data.X_KOD.hist()"
   ]
  },
  {
   "cell_type": "code",
   "execution_count": null,
   "id": "b18dff54",
   "metadata": {},
   "outputs": [],
   "source": [
    "shp_data.X_KOD.value_counts()"
   ]
  },
  {
   "cell_type": "code",
   "execution_count": null,
   "id": "dc0fe94f",
   "metadata": {},
   "outputs": [],
   "source": [
    "shp_data.geometry.plot()"
   ]
  },
  {
   "cell_type": "code",
   "execution_count": null,
   "id": "802121c5",
   "metadata": {},
   "outputs": [],
   "source": [
    "shp_data['geometry1992'] = shp_data.geometry.to_epsg(2180)"
   ]
  },
  {
   "cell_type": "code",
   "execution_count": null,
   "id": "683b9cd3",
   "metadata": {},
   "outputs": [],
   "source": [
    "shp_data.geometry1992.plot()"
   ]
  },
  {
   "cell_type": "code",
   "execution_count": null,
   "id": "4003f3f5",
   "metadata": {},
   "outputs": [],
   "source": [
    "shp_data.crs"
   ]
  },
  {
   "cell_type": "code",
   "execution_count": null,
   "id": "55264d2a",
   "metadata": {},
   "outputs": [],
   "source": [
    "shp_data.geometry.iloc[0]"
   ]
  },
  {
   "cell_type": "code",
   "execution_count": null,
   "id": "7901c62f",
   "metadata": {},
   "outputs": [],
   "source": [
    "shp_data.geometry.iloc[0].exterior"
   ]
  },
  {
   "cell_type": "code",
   "execution_count": null,
   "id": "651d481c",
   "metadata": {},
   "outputs": [],
   "source": [
    "shp_data.geometry.iloc[0].exterior.xy"
   ]
  },
  {
   "cell_type": "markdown",
   "id": "742c317b",
   "metadata": {},
   "source": [
    "# Arkusze"
   ]
  },
  {
   "cell_type": "code",
   "execution_count": null,
   "id": "0def926e",
   "metadata": {},
   "outputs": [],
   "source": [
    "godlo1992 = gpd.read_file(r\"C:\\Users\\karol\\projects\\cufix\\bdot10kseg\\data\\SiatkaPodzialuArkuszowegoNMT_PL1992_5000\\PL1992_5000.shp\")\n",
    "\n",
    "godlo1992"
   ]
  },
  {
   "cell_type": "code",
   "execution_count": null,
   "id": "333bd1bc",
   "metadata": {},
   "outputs": [],
   "source": [
    "godlo1992.geometry.plot(figsize=(10,10))"
   ]
  },
  {
   "cell_type": "code",
   "execution_count": null,
   "id": "a0a1542e",
   "metadata": {},
   "outputs": [],
   "source": [
    "downloaded_godlos = []\n",
    "for t in tiffs:\n",
    "    downloaded_godlos.append(t.split('/')[-1].split('_')[-1][:-4])"
   ]
  },
  {
   "cell_type": "code",
   "execution_count": null,
   "id": "d233efb2",
   "metadata": {},
   "outputs": [],
   "source": [
    "downloaded_godlos[:15]"
   ]
  },
  {
   "cell_type": "code",
   "execution_count": null,
   "id": "3b463a63",
   "metadata": {},
   "outputs": [],
   "source": [
    "'M-34-9-B-c-4-1' in godlo1992.godlo"
   ]
  },
  {
   "cell_type": "code",
   "execution_count": null,
   "id": "30d6570f",
   "metadata": {},
   "outputs": [],
   "source": [
    "godlo1992['downloaded'] = [_ in downloaded_godlos for _ in godlo1992.godlo]\n",
    "godlo1992"
   ]
  },
  {
   "cell_type": "code",
   "execution_count": null,
   "id": "ef59904c",
   "metadata": {},
   "outputs": [],
   "source": [
    "godlo1992.downloaded.value_counts()"
   ]
  }
 ],
 "metadata": {
  "kernelspec": {
   "display_name": "Python 3 (ipykernel)",
   "language": "python",
   "name": "python3"
  },
  "language_info": {
   "codemirror_mode": {
    "name": "ipython",
    "version": 3
   },
   "file_extension": ".py",
   "mimetype": "text/x-python",
   "name": "python",
   "nbconvert_exporter": "python",
   "pygments_lexer": "ipython3",
   "version": "3.10.8"
  }
 },
 "nbformat": 4,
 "nbformat_minor": 5
}
