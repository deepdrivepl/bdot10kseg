{
 "cells": [
  {
   "cell_type": "code",
   "execution_count": null,
   "id": "1f7e588b",
   "metadata": {},
   "outputs": [],
   "source": [
    "import cv2\n",
    "from glob import glob\n",
    "import numpy as np\n",
    "import matplotlib.pyplot as plt\n",
    "from tqdm import tqdm"
   ]
  },
  {
   "cell_type": "code",
   "execution_count": null,
   "id": "5085b965",
   "metadata": {},
   "outputs": [],
   "source": [
    "# image_dir='Z:/ortofotomapa/images/'\n",
    "image_dir='/mnt/nfs/ortofotomapa/images'\n",
    "tiffs = glob(image_dir+'/*.tif')\n",
    "len(tiffs)"
   ]
  },
  {
   "cell_type": "code",
   "execution_count": null,
   "id": "32ac6772",
   "metadata": {},
   "outputs": [],
   "source": [
    "fname = tiffs[0]\n",
    "print(fname)"
   ]
  },
  {
   "cell_type": "code",
   "execution_count": null,
   "id": "b22cb83e",
   "metadata": {},
   "outputs": [],
   "source": [
    "img = cv2.imread(fname)\n",
    "img.shape"
   ]
  },
  {
   "cell_type": "code",
   "execution_count": null,
   "id": "68352c8d",
   "metadata": {},
   "outputs": [],
   "source": [
    "plt.imshow(img[:,:,::-1])"
   ]
  },
  {
   "cell_type": "markdown",
   "id": "447f76f1",
   "metadata": {},
   "source": [
    "# Rasterio"
   ]
  },
  {
   "cell_type": "code",
   "execution_count": null,
   "id": "36b81e04",
   "metadata": {},
   "outputs": [],
   "source": [
    "import rasterio\n",
    "from rasterio.plot import show"
   ]
  },
  {
   "cell_type": "code",
   "execution_count": null,
   "id": "ed88d3ed",
   "metadata": {},
   "outputs": [],
   "source": [
    "raster = rasterio.open(fname)\n",
    "show(raster)"
   ]
  },
  {
   "cell_type": "code",
   "execution_count": null,
   "id": "49483b9c",
   "metadata": {},
   "outputs": [],
   "source": [
    "dir(raster)"
   ]
  },
  {
   "cell_type": "code",
   "execution_count": null,
   "id": "7960b62a",
   "metadata": {
    "scrolled": false
   },
   "outputs": [],
   "source": [
    "print(raster.width, raster.height)\n",
    "print(raster.crs)\n",
    "print(raster.transform)\n",
    "print(raster.count)\n",
    "print(raster.indexes)\n",
    "print(raster.bounds)\n"
   ]
  },
  {
   "cell_type": "code",
   "execution_count": null,
   "id": "3365fc08",
   "metadata": {},
   "outputs": [],
   "source": [
    "print(raster.transform)"
   ]
  },
  {
   "cell_type": "code",
   "execution_count": null,
   "id": "20930040",
   "metadata": {},
   "outputs": [],
   "source": [
    "raster.transform * (0,0), raster.transform * (raster.width, raster.height)"
   ]
  },
  {
   "cell_type": "code",
   "execution_count": null,
   "id": "72335bad",
   "metadata": {},
   "outputs": [],
   "source": [
    "plt.imshow(raster.read().transpose(1,2,0))\n",
    "raster.read().transpose(1,2,0).shape"
   ]
  },
  {
   "cell_type": "code",
   "execution_count": null,
   "id": "7d5e848b",
   "metadata": {},
   "outputs": [],
   "source": [
    "ymax=800000\n",
    "ymin=150000\n",
    "xmin=150000\n",
    "xmax=800000\n",
    "scale=1/5\n",
    "themap=np.zeros((int((ymax-ymin)*scale), int((xmax-xmin)*scale), 3),np.uint8)\n",
    "print(themap.shape, themap.dtype)"
   ]
  },
  {
   "cell_type": "code",
   "execution_count": null,
   "id": "95193bf9",
   "metadata": {},
   "outputs": [],
   "source": [
    "def plot_on_map(themap, raster, xmin,ymin,scale):\n",
    "    (ixmin,iymax),(ixmax,iymin) = raster.transform * (0,0), raster.transform * (raster.width, raster.height)\n",
    "    ixmin-=xmin\n",
    "    ixmax-=xmin\n",
    "    iymin-=ymin\n",
    "    iymax-=ymin\n",
    "    \n",
    "    ixmin*=scale\n",
    "    iymin*=scale\n",
    "    ixmax*=scale\n",
    "    iymax*=scale\n",
    "    \n",
    "    ixmin = int(ixmin)\n",
    "    iymin = int(iymin)\n",
    "    ixmax = int(ixmax)\n",
    "    iymax = int(iymax)\n",
    "    \n",
    "    npr = raster.read().transpose(1,2,0)\n",
    "    npr = cv2.resize(npr, (ixmax-ixmin, iymax-iymin))\n",
    "    themap[iymin:iymax, ixmin:ixmax] = npr[::-1]\n",
    "\n",
    "\n",
    "for fn in tqdm(tiffs):\n",
    "    raster = rasterio.open(fn)\n",
    "    plot_on_map(themap,raster,xmin,ymin,scale)\n",
    "plt.figure(figsize=(40,40))\n",
    "plt.imshow(themap)\n",
    "cv2.imwrite('/tmp/map.png', themap)\n",
    "print('DONE')"
   ]
  },
  {
   "cell_type": "code",
   "execution_count": null,
   "id": "20c385f7",
   "metadata": {},
   "outputs": [],
   "source": [
    "plt.figure(figsize=(40,40))\n",
    "plt.imshow(themap[::-1,:,::-1])\n",
    "cv2.imwrite('/tmp/map.png', themap)\n"
   ]
  },
  {
   "cell_type": "code",
   "execution_count": null,
   "id": "381af2ec",
   "metadata": {},
   "outputs": [],
   "source": [
    "fn"
   ]
  },
  {
   "cell_type": "code",
   "execution_count": null,
   "id": "a3a45587",
   "metadata": {},
   "outputs": [],
   "source": [
    "len(tiffs)"
   ]
  },
  {
   "cell_type": "markdown",
   "id": "39f0c259",
   "metadata": {},
   "source": [
    "# EOMaps?"
   ]
  },
  {
   "cell_type": "code",
   "execution_count": null,
   "id": "f2e8dc6f",
   "metadata": {},
   "outputs": [],
   "source": [
    "# from eomaps import Maps\n",
    "\n",
    "\n",
    "# m = Maps(crs=2180, figsize=(10, 10))\n",
    "# m.add_wms.OpenStreetMap.add_layer.stamen_terrain()\n",
    "# # plot shapefile (zorder=2 to be on top of the DEM)\n",
    "# # m.add_gdf(shp_data, column=shp_data.VEGKOD, cmap=\"viridis\", ec=\"k\", lw=0.2, alpha=0.5, zorder=2)\n",
    "# # plot DEM\n",
    "# m2 = m.new_layer_from_file.GeoTIFF(tiffs[0], zorder=1)\n",
    "\n",
    "# m.ax.set_extent((589913.0408156103, 713614.6619114348, 7495264.310799116, 7618965.93189494),\n",
    "#                 Maps.CRS.epsg(2180))"
   ]
  },
  {
   "cell_type": "code",
   "execution_count": null,
   "id": "6a5da12b",
   "metadata": {},
   "outputs": [],
   "source": [
    "import geopandas as gpd"
   ]
  },
  {
   "cell_type": "code",
   "execution_count": null,
   "id": "582ce68b",
   "metadata": {},
   "outputs": [],
   "source": [
    "\n",
    "shp_data = gpd.read_file(\"/mnt/nfs/ortofotomapa/shp/unzipped/SHP/PL.PZGiK.333.0801__OT_BUBD_A.shp\")\n",
    "shp_data"
   ]
  },
  {
   "cell_type": "code",
   "execution_count": null,
   "id": "efa0a433",
   "metadata": {},
   "outputs": [],
   "source": [
    "plt.figure(figsize=(20,10))\n",
    "shp_data.X_KOD.hist()"
   ]
  },
  {
   "cell_type": "code",
   "execution_count": null,
   "id": "36998e6e",
   "metadata": {},
   "outputs": [],
   "source": [
    "shp_data.X_KOD.value_counts()"
   ]
  },
  {
   "cell_type": "code",
   "execution_count": null,
   "id": "483bb53f",
   "metadata": {},
   "outputs": [],
   "source": [
    "shp_data.geometry.plot()"
   ]
  },
  {
   "cell_type": "code",
   "execution_count": null,
   "id": "dd1b315f",
   "metadata": {},
   "outputs": [],
   "source": [
    "shp_data.crs"
   ]
  },
  {
   "cell_type": "code",
   "execution_count": null,
   "id": "6377df55",
   "metadata": {},
   "outputs": [],
   "source": [
    "shp_data.geometry.iloc[0]"
   ]
  },
  {
   "cell_type": "code",
   "execution_count": null,
   "id": "271f393f",
   "metadata": {},
   "outputs": [],
   "source": [
    "shp_data.geometry.iloc[0].exterior"
   ]
  },
  {
   "cell_type": "code",
   "execution_count": null,
   "id": "67b6de1f",
   "metadata": {},
   "outputs": [],
   "source": [
    "shp_data.geometry.iloc[0].exterior.xy"
   ]
  },
  {
   "cell_type": "markdown",
   "id": "414487b3",
   "metadata": {},
   "source": [
    "# Arkusze"
   ]
  },
  {
   "cell_type": "code",
   "execution_count": null,
   "id": "4a38c9f9",
   "metadata": {},
   "outputs": [],
   "source": [
    "# godlo1992 = gpd.read_file(r\"C:\\Users\\karol\\projects\\cufix\\bdot10kseg\\data\\SiatkaPodzialuArkuszowegoNMT_PL1992_5000\\PL1992_5000.shp\")\n",
    "godlo1992 = gpd.read_file('/mnt/nfs/ortofotomapa/shp/SiatkaPodzialuArkuszowegoNMT_PL1992_5000/PL1992_5000.shp')\n",
    "\n",
    "godlo1992"
   ]
  },
  {
   "cell_type": "code",
   "execution_count": null,
   "id": "0528c590",
   "metadata": {},
   "outputs": [],
   "source": [
    "godlo1992.geometry.plot(figsize=(10,10))"
   ]
  },
  {
   "cell_type": "code",
   "execution_count": null,
   "id": "ace8c83f",
   "metadata": {},
   "outputs": [],
   "source": [
    "downloaded_godlos = []\n",
    "for t in tiffs:\n",
    "    downloaded_godlos.append(t.split('/')[-1].split('_')[-1][:-4])"
   ]
  },
  {
   "cell_type": "code",
   "execution_count": null,
   "id": "fb563ad4",
   "metadata": {},
   "outputs": [],
   "source": [
    "downloaded_godlos[:15]"
   ]
  },
  {
   "cell_type": "code",
   "execution_count": null,
   "id": "54802cc0",
   "metadata": {},
   "outputs": [],
   "source": [
    "'M-34-9-B-c-4-1' in godlo1992.godlo"
   ]
  },
  {
   "cell_type": "code",
   "execution_count": null,
   "id": "2405b952",
   "metadata": {},
   "outputs": [],
   "source": [
    "godlo1992['downloaded'] = [_ in downloaded_godlos for _ in godlo1992.godlo]\n",
    "godlo1992"
   ]
  },
  {
   "cell_type": "code",
   "execution_count": null,
   "id": "7af73d63",
   "metadata": {},
   "outputs": [],
   "source": [
    "godlo1992.downloaded.value_counts()"
   ]
  },
  {
   "cell_type": "code",
   "execution_count": null,
   "id": "a83a58b3",
   "metadata": {},
   "outputs": [],
   "source": []
  },
  {
   "cell_type": "code",
   "execution_count": null,
   "id": "d95d6f94",
   "metadata": {},
   "outputs": [],
   "source": [
    "godlo1992[godlo1992['downloaded']==True].geometry.plot(figsize=(20,20))\n"
   ]
  },
  {
   "cell_type": "code",
   "execution_count": null,
   "id": "e7401828",
   "metadata": {},
   "outputs": [],
   "source": [
    "godlo1992[godlo1992['downloaded']==False].geometry.plot(figsize=(20,20))"
   ]
  },
  {
   "cell_type": "code",
   "execution_count": null,
   "id": "6ed646fc",
   "metadata": {},
   "outputs": [],
   "source": [
    "godlo1992[godlo1992['downloaded']==True].geometry"
   ]
  }
 ],
 "metadata": {
  "kernelspec": {
   "display_name": "Python 3",
   "language": "python",
   "name": "python3"
  },
  "language_info": {
   "codemirror_mode": {
    "name": "ipython",
    "version": 3
   },
   "file_extension": ".py",
   "mimetype": "text/x-python",
   "name": "python",
   "nbconvert_exporter": "python",
   "pygments_lexer": "ipython3",
   "version": "3.7.6"
  }
 },
 "nbformat": 4,
 "nbformat_minor": 5
}
