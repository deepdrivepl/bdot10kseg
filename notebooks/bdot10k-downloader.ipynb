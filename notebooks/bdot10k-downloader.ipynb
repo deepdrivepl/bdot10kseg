{
 "cells": [
  {
   "cell_type": "code",
   "execution_count": null,
   "id": "84171d1a",
   "metadata": {},
   "outputs": [],
   "source": [
    "import pandas as pd\n",
    "import numpy as np\n",
    "import urllib.request\n",
    "import time\n",
    "from tqdm import tqdm\n",
    "import os\n",
    "from glob import glob\n",
    "import pathlib\n",
    "import zipfile"
   ]
  },
  {
   "cell_type": "code",
   "execution_count": null,
   "id": "0a5e07a1",
   "metadata": {},
   "outputs": [],
   "source": [
    "df = pd.read_csv('../data/teryt.csv',sep=';')\n",
    "df"
   ]
  },
  {
   "cell_type": "code",
   "execution_count": null,
   "id": "ad36cdd2",
   "metadata": {},
   "outputs": [],
   "source": [
    "df['pow_id'] = np.nan_to_num(df['pow_id']).astype(int)"
   ]
  },
  {
   "cell_type": "code",
   "execution_count": null,
   "id": "006ca32b",
   "metadata": {},
   "outputs": [],
   "source": [
    "df.info()"
   ]
  },
  {
   "cell_type": "code",
   "execution_count": null,
   "id": "bd103134",
   "metadata": {},
   "outputs": [],
   "source": [
    "df.pow_name.unique"
   ]
  },
  {
   "cell_type": "code",
   "execution_count": null,
   "id": "ddb82ef8",
   "metadata": {},
   "outputs": [],
   "source": [
    "links = []\n",
    "\n",
    "for bdot10kDataFormat in ['SHP', 'GML']:\n",
    "    for _,row in df.iterrows():\n",
    "        link = f'https://opendata.geoportal.gov.pl/bdot10k/{bdot10kDataFormat}/{row[\"woj_id\"]:02}/{row[\"pow_id\"]:04}_{bdot10kDataFormat}.zip'\n",
    "        if bdot10kDataFormat == 'GML':\n",
    "            link = f'https://opendata.geoportal.gov.pl/bdot10k/{row[\"woj_id\"]:02}/{row[\"pow_id\"]:04}_{bdot10kDataFormat}.zip'\n",
    "        links.append(link)\n",
    "        print(link)"
   ]
  },
  {
   "cell_type": "code",
   "execution_count": null,
   "id": "331243b3",
   "metadata": {},
   "outputs": [],
   "source": [
    "data_dir = '/mnt/nfs/ortofotomapa/shp/'\n",
    "pathlib.Path(data_dir+\"/zips\").mkdir(parents=True, exist_ok=True)\n",
    "pathlib.Path(data_dir+\"/unzipped/SHP\").mkdir(parents=True, exist_ok=True)\n",
    "pathlib.Path(data_dir+\"/unzipped/GML\").mkdir(parents=True, exist_ok=True)"
   ]
  },
  {
   "cell_type": "code",
   "execution_count": null,
   "id": "c76c976c",
   "metadata": {
    "scrolled": false
   },
   "outputs": [],
   "source": [
    "for url in tqdm(links):\n",
    "    file_name = data_dir + '/zips/' + url.split('/')[-1]\n",
    "    if not os.path.exists(file_name):\n",
    "        try:\n",
    "            urllib.request.urlretrieve(url, file_name)\n",
    "        except Exception as e:\n",
    "            print(url)\n",
    "            print(e)\n",
    "        time.sleep(10)"
   ]
  },
  {
   "cell_type": "code",
   "execution_count": null,
   "id": "515bb9dd",
   "metadata": {},
   "outputs": [],
   "source": [
    "zips = glob(data_dir+'/zips/*.zip')\n",
    "zips[:4], len(zips)"
   ]
  },
  {
   "cell_type": "code",
   "execution_count": null,
   "id": "4ce2f86b",
   "metadata": {},
   "outputs": [],
   "source": [
    "for z in tqdm(zips[345:]):\n",
    "    if 'GML' in z:\n",
    "        out_dir = data_dir + '/unzipped/GML'\n",
    "    else:\n",
    "        out_dir = data_dir + '/unzipped/SHP'\n",
    "    with zipfile.ZipFile(z, 'r') as zip_ref:\n",
    "        print(z)\n",
    "        print(out_dir)\n",
    "        zip_ref.extractall(out_dir)"
   ]
  },
  {
   "cell_type": "code",
   "execution_count": null,
   "id": "7ba55be2",
   "metadata": {},
   "outputs": [],
   "source": [
    "!ls -ltrh /mnt/nfs/ortofotomapa/shp/unzipped/SHP/ | grep shp  | wc -l"
   ]
  }
 ],
 "metadata": {
  "kernelspec": {
   "display_name": "Python 3",
   "language": "python",
   "name": "python3"
  },
  "language_info": {
   "codemirror_mode": {
    "name": "ipython",
    "version": 3
   },
   "file_extension": ".py",
   "mimetype": "text/x-python",
   "name": "python",
   "nbconvert_exporter": "python",
   "pygments_lexer": "ipython3",
   "version": "3.7.6"
  }
 },
 "nbformat": 4,
 "nbformat_minor": 5
}
