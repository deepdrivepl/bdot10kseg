{
 "cells": [
  {
   "cell_type": "code",
   "execution_count": 1,
   "id": "f775e868-8f49-4424-878c-a62993bdfacb",
   "metadata": {},
   "outputs": [],
   "source": [
    "import os\n",
    "\n",
    "from tqdm import tqdm\n",
    "from glob import glob\n",
    "\n",
    "import cv2\n",
    "import numpy as np\n",
    "import pandas as pd\n",
    "import seaborn as sns\n",
    "import matplotlib.pyplot as plt"
   ]
  },
  {
   "cell_type": "markdown",
   "id": "5925c486-bc7f-4189-904c-5c7c3883a3af",
   "metadata": {},
   "source": [
    "```\n",
    "There are 44 doubled tiffs (same \"godło\"), but with different resolutions\n",
    "and 12 doubled tiffs with no other differences than the image itself\n",
    "```"
   ]
  },
  {
   "cell_type": "code",
   "execution_count": 2,
   "id": "c1a378b8-9f0f-4653-b79c-a82d45d85848",
   "metadata": {},
   "outputs": [],
   "source": [
    "META_IMAGES = \"../../data/meta/images\"\n",
    "PLOT_DIR = \"../../plots\"\n",
    "os.makedirs(PLOT_DIR, exist_ok=True)\n",
    "\n",
    "images = sorted(glob(os.path.join(META_IMAGES, '*.csv')))"
   ]
  },
  {
   "cell_type": "code",
   "execution_count": 3,
   "id": "551e8789-a20a-4ba7-b146-280eb9f0405f",
   "metadata": {},
   "outputs": [],
   "source": [
    "def merge_dfs(paths):\n",
    "    mrg = []\n",
    "    for pth in tqdm(paths):\n",
    "        df = pd.read_csv(pth)\n",
    "        df[\"fname\"] = os.path.basename(pth)\n",
    "        df[\"godlo\"] = os.path.basename(pth).replace('.csv', '').split('_')[-1]\n",
    "        mrg.append(df)\n",
    "    df = pd.concat(mrg)\n",
    "    return df"
   ]
  },
  {
   "cell_type": "code",
   "execution_count": null,
   "id": "655fc905-7c1f-47f5-932a-4d82a70789e8",
   "metadata": {},
   "outputs": [
    {
     "name": "stderr",
     "output_type": "stream",
     "text": [
      "100%|██████████| 60774/60774 [03:06<00:00, 325.69it/s]\n"
     ]
    }
   ],
   "source": [
    "df = merge_dfs(images)\n",
    "df = df.round({'scale': 2})"
   ]
  },
  {
   "cell_type": "code",
   "execution_count": null,
   "id": "7fceb129-2ca4-4fde-8777-1bb8dd25d368",
   "metadata": {},
   "outputs": [],
   "source": [
    "df.godlo.unique().size"
   ]
  },
  {
   "cell_type": "code",
   "execution_count": null,
   "id": "c986a382-9ca7-4474-977f-14ec49d40565",
   "metadata": {},
   "outputs": [],
   "source": [
    "df['index'] = range(0, df.shape[0])\n",
    "df = df.set_index('index')\n",
    "\n",
    "doubled = df[df.groupby('godlo').godlo.transform('size') > 1].godlo.unique()\n",
    "\n",
    "to_del = []\n",
    "for gdl in tqdm(doubled):\n",
    "    _df = df[df.godlo==gdl]\n",
    "    assert _df.shape[0]==2\n",
    "    \n",
    "    if _df.iloc[0]['scale'] >= _df.iloc[1]['scale']: # del duplicate with a bigger scale\n",
    "        to_del.append(_df.index[0])\n",
    "    else:\n",
    "        to_del.append(_df.index[1]) \n",
    "    \n",
    "df = df.drop(to_del)\n",
    "df"
   ]
  },
  {
   "cell_type": "code",
   "execution_count": null,
   "id": "6e820b41-c256-4ad2-9744-b117e5ce9df6",
   "metadata": {},
   "outputs": [],
   "source": [
    "sorted(df.scale.unique())"
   ]
  },
  {
   "cell_type": "code",
   "execution_count": null,
   "id": "8cb6863c-9b7b-481b-a37e-9d7a6b20c018",
   "metadata": {},
   "outputs": [],
   "source": [
    "new_df = pd.DataFrame(columns=[\"scale\", \"counter\"])\n",
    "new_df.scale = sorted(df.scale.unique()) \n",
    "\n",
    "new_df.counter = new_df.apply(lambda x: df[df.scale == x.scale].count(), axis=1)\n",
    "new_df"
   ]
  },
  {
   "cell_type": "code",
   "execution_count": null,
   "id": "4619ccec-2dfc-4659-a566-58e68f43a37f",
   "metadata": {},
   "outputs": [],
   "source": [
    "df_area = pd.DataFrame(columns=[\"scale\", \"area\"])\n",
    "df_area.scale = sorted(df.scale.unique()) \n",
    "\n",
    "df_area.area = df_area.apply(lambda x: (df[df.scale==x.scale].m_width*df[df.scale==x.scale].m_height).sum(), axis=1)\n",
    "df_area"
   ]
  },
  {
   "cell_type": "code",
   "execution_count": null,
   "id": "84777e2c-555a-468b-8047-3d94092079b6",
   "metadata": {},
   "outputs": [],
   "source": [
    "df_area.area = df_area.area*1e-6\n",
    "df_area"
   ]
  },
  {
   "cell_type": "code",
   "execution_count": null,
   "id": "312ccab6-5c04-42c3-8d18-2b54a02cb8cd",
   "metadata": {},
   "outputs": [],
   "source": [
    "df_area.area.sum() # PL area from wiki - 312696"
   ]
  },
  {
   "cell_type": "markdown",
   "id": "36a7aaec-bede-4336-b18e-639782f246aa",
   "metadata": {},
   "source": [
    "### number of images in each scale"
   ]
  },
  {
   "cell_type": "code",
   "execution_count": null,
   "id": "7b96bf7a-8c3c-45df-b666-64d78831e159",
   "metadata": {},
   "outputs": [],
   "source": [
    "plt.figure(figsize=(16, 10))\n",
    "sns.set(style = 'whitegrid', font_scale = 1.2)\n",
    "sns.set_palette(sns.color_palette(\"Set1\", desat=.5))\n",
    "plt.tight_layout()\n",
    "\n",
    "width = 0.5\n",
    "num = np.arange(len(new_df.scale))\n",
    "\n",
    "p1 = plt.bar(num, new_df.counter, width)\n",
    "plt.xticks(num, new_df.scale)\n",
    "\n",
    "plt.xlabel('Meters per pixel')\n",
    "plt.ylabel('Number of images')\n",
    "plt.yscale('log')\n",
    "plt.savefig(os.path.join(PLOT_DIR, 'scale_img-number.eps'), bbox_inches='tight')"
   ]
  },
  {
   "cell_type": "markdown",
   "id": "cd099cb4-e49d-47b6-b943-15fe4555d6af",
   "metadata": {},
   "source": [
    "### area per scale"
   ]
  },
  {
   "cell_type": "code",
   "execution_count": null,
   "id": "ec8459a2-c357-4db7-acf4-02ca083ccd37",
   "metadata": {},
   "outputs": [],
   "source": [
    "plt.figure(figsize=(16, 10))\n",
    "sns.set(style = 'whitegrid', font_scale = 1.2)\n",
    "sns.set_palette(sns.color_palette(\"Set1\", desat=.5))\n",
    "plt.tight_layout()\n",
    "\n",
    "width = 0.5\n",
    "num = np.arange(len(new_df.scale))\n",
    "\n",
    "p1 = plt.bar(num, new_df.counter, width)\n",
    "plt.xticks(num, new_df.scale)\n",
    "\n",
    "plt.xlabel('Meters per pixel')\n",
    "plt.ylabel('$km^2$')\n",
    "plt.yscale('log')\n",
    "plt.savefig(os.path.join(PLOT_DIR, 'scale_km2.eps'), bbox_inches='tight')"
   ]
  }
 ],
 "metadata": {
  "kernelspec": {
   "display_name": "Python 3",
   "language": "python",
   "name": "python3"
  },
  "language_info": {
   "codemirror_mode": {
    "name": "ipython",
    "version": 3
   },
   "file_extension": ".py",
   "mimetype": "text/x-python",
   "name": "python",
   "nbconvert_exporter": "python",
   "pygments_lexer": "ipython3",
   "version": "3.6.12"
  }
 },
 "nbformat": 4,
 "nbformat_minor": 5
}
