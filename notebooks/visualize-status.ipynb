{
 "cells": [
  {
   "cell_type": "code",
   "execution_count": null,
   "id": "bdfd3311",
   "metadata": {},
   "outputs": [],
   "source": [
    "import cv2\n",
    "from glob import glob\n",
    "import numpy as np\n",
    "import matplotlib.pyplot as plt\n",
    "import geopandas as gpd"
   ]
  },
  {
   "cell_type": "code",
   "execution_count": null,
   "id": "752b8424",
   "metadata": {},
   "outputs": [],
   "source": [
    "image_dir='Z:/ortofotomapa/images/'\n",
    "tiffs = glob(image_dir+'/*.tif')\n",
    "len(tiffs)"
   ]
  },
  {
   "cell_type": "code",
   "execution_count": null,
   "id": "8382bd25",
   "metadata": {},
   "outputs": [],
   "source": [
    "len(tiffs)"
   ]
  },
  {
   "cell_type": "code",
   "execution_count": null,
   "id": "625b6672",
   "metadata": {},
   "outputs": [],
   "source": [
    "fname = tiffs[0]\n",
    "print(fname)"
   ]
  },
  {
   "cell_type": "code",
   "execution_count": null,
   "id": "e05ace7b",
   "metadata": {},
   "outputs": [],
   "source": [
    "img = cv2.imread(fname)\n",
    "img.shape"
   ]
  },
  {
   "cell_type": "code",
   "execution_count": null,
   "id": "5e73ee63",
   "metadata": {},
   "outputs": [],
   "source": [
    "plt.imshow(img[:,:,::-1])"
   ]
  },
  {
   "cell_type": "code",
   "execution_count": null,
   "id": "35424345",
   "metadata": {},
   "outputs": [],
   "source": [
    "godlo1992 = gpd.read_file(r\"Z:\\ortofotomapa\\shp\\SiatkaPodzialuArkuszowegoNMT_PL1992_5000\\PL1992_5000.shp\")\n",
    "\n",
    "godlo1992"
   ]
  },
  {
   "cell_type": "code",
   "execution_count": null,
   "id": "cbac445f",
   "metadata": {},
   "outputs": [],
   "source": [
    "godlo1992.geometry.plot(figsize=(10,10))"
   ]
  },
  {
   "cell_type": "code",
   "execution_count": null,
   "id": "38e42fbb",
   "metadata": {},
   "outputs": [],
   "source": [
    "downloaded_godlos = []\n",
    "for t in tiffs:\n",
    "    downloaded_godlos.append(t.split('/')[-1].split('_')[-1][:-4])"
   ]
  },
  {
   "cell_type": "code",
   "execution_count": null,
   "id": "b59e2ea4",
   "metadata": {},
   "outputs": [],
   "source": [
    "downloaded_godlos[:15]"
   ]
  },
  {
   "cell_type": "code",
   "execution_count": null,
   "id": "94f809db",
   "metadata": {},
   "outputs": [],
   "source": [
    "'M-34-9-B-c-4-1' in godlo1992.godlo"
   ]
  },
  {
   "cell_type": "code",
   "execution_count": null,
   "id": "ec9e30cf",
   "metadata": {},
   "outputs": [],
   "source": [
    "godlo1992['downloaded'] = [_ in downloaded_godlos for _ in godlo1992.godlo]\n",
    "godlo1992"
   ]
  },
  {
   "cell_type": "code",
   "execution_count": null,
   "id": "4372ff51",
   "metadata": {},
   "outputs": [],
   "source": [
    "godlo1992.downloaded.value_counts()"
   ]
  },
  {
   "cell_type": "code",
   "execution_count": null,
   "id": "2a974bf6",
   "metadata": {},
   "outputs": [],
   "source": [
    "godlo1992[godlo1992['downloaded']==True].geometry.plot(figsize=(10,10))"
   ]
  },
  {
   "cell_type": "code",
   "execution_count": null,
   "id": "9126d06a",
   "metadata": {},
   "outputs": [],
   "source": [
    "godlo1992[godlo1992['downloaded']==False].geometry.plot(figsize=(20,20))"
   ]
  }
 ],
 "metadata": {
  "kernelspec": {
   "display_name": "Python 3",
   "language": "python",
   "name": "python3"
  },
  "language_info": {
   "codemirror_mode": {
    "name": "ipython",
    "version": 3
   },
   "file_extension": ".py",
   "mimetype": "text/x-python",
   "name": "python",
   "nbconvert_exporter": "python",
   "pygments_lexer": "ipython3",
   "version": "3.7.6"
  }
 },
 "nbformat": 4,
 "nbformat_minor": 5
}
