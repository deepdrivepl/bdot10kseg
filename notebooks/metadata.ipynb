{
 "cells": [
  {
   "cell_type": "code",
   "execution_count": null,
   "id": "f9618cb4",
   "metadata": {},
   "outputs": [],
   "source": [
    "import numpy as np\n",
    "import matplotlib.pyplot as plt"
   ]
  },
  {
   "cell_type": "code",
   "execution_count": null,
   "id": "7a4c139f",
   "metadata": {},
   "outputs": [],
   "source": [
    "def decode_godlo(godlo):\n",
    "    g = godlo.split('-')\n",
    "    mn = g[0]=='N'\n",
    "    _34 = g[1]=='34'\n",
    "    _144 = int(g[2])-1\n",
    "    ABCD = {'A':(0,0),\n",
    "            'B':(1,0),\n",
    "            'C':(0,1),\n",
    "            'D':(1,1)}[g[3]]\n",
    "    abcd = {'a':(0,0),\n",
    "            'b':(1,0),\n",
    "            'c':(0,1),\n",
    "            'd':(1,1)}[g[4]]\n",
    "    _1 =  {'1':(0,0),\n",
    "            '2':(1,0),\n",
    "            '3':(0,1),\n",
    "            '4':(1,1)}[g[5]]\n",
    "    _2 =  {'1':(0,0),\n",
    "            '2':(1,0),\n",
    "            '3':(0,1),\n",
    "            '4':(1,1)}[g[6]]\n",
    "    \n",
    "    y12 = _144//12\n",
    "    x12 = _144 - 12*y12\n",
    "    \n",
    "    xx = 16*12*mn  + x12 * 16 + ABCD[0]*8 + abcd[0]*4 + _1[0]*2 + _2[0]\n",
    "    yy = 16*12*_34 + y12 * 16 + ABCD[1]*8 + abcd[1]*4 + _1[1]*2 + _2[1]\n",
    "    \n",
    "    \n",
    "    return xx,yy\n",
    "    \n",
    "    \n"
   ]
  },
  {
   "cell_type": "code",
   "execution_count": null,
   "id": "834bc93d",
   "metadata": {},
   "outputs": [],
   "source": [
    "a = np.zeros((16*12*2, 16*12*2))\n",
    "\n",
    "for mn in ['M','N']:\n",
    "    for _34 in ['33','34']:\n",
    "        for _144_ in range(1,145):\n",
    "            _144 = str(_144_)\n",
    "            for ABCD in 'ABCD':\n",
    "                for abcd in 'abcd':\n",
    "                    for _1 in '1234':\n",
    "                        for _2 in '1234':\n",
    "                            try:\n",
    "                                x,y = decode_godlo('-'.join([mn,_34,_144,ABCD,abcd,_1,_2]))\n",
    "                                a[x,y] = 1\n",
    "                            except Exception as e:\n",
    "                                print(e)\n",
    "                                print('-'.join([mn,_34,_144,ABCD,abcd,_1,_2]))\n",
    "                                raise\n",
    "plt.figure(figsize=(20,20))\n",
    "plt.imshow(a)\n",
    "np.unique(a,return_counts=True)"
   ]
  },
  {
   "cell_type": "code",
   "execution_count": null,
   "id": "e9b718e8",
   "metadata": {},
   "outputs": [],
   "source": [
    "x,y = decode_godlo('N-33-126-D-a-2-3')\n",
    "a[x,y] = 1\n",
    "\n",
    "x,y = decode_godlo('N-33-77-B-c-1-4')\n",
    "a[x,y] = 1\n",
    "plt.figure(figsize=(20,20))\n",
    "plt.imshow(a)"
   ]
  },
  {
   "cell_type": "code",
   "execution_count": null,
   "id": "6877d15e",
   "metadata": {},
   "outputs": [],
   "source": [
    "a = dict()\n",
    "a[(1,2)]=1"
   ]
  },
  {
   "cell_type": "code",
   "execution_count": null,
   "id": "76d8a3b2",
   "metadata": {},
   "outputs": [],
   "source": [
    "a"
   ]
  },
  {
   "cell_type": "markdown",
   "id": "5cd87bb2",
   "metadata": {},
   "source": [
    "# pool"
   ]
  },
  {
   "cell_type": "code",
   "execution_count": null,
   "id": "7520ee0d",
   "metadata": {},
   "outputs": [],
   "source": [
    "import numpy as np\n",
    "import matplotlib.pyplot as plt\n",
    "from tqdm import tqdm"
   ]
  },
  {
   "cell_type": "code",
   "execution_count": null,
   "id": "71abbb66",
   "metadata": {},
   "outputs": [],
   "source": [
    "x=611080.3983777018\n",
    "y=472820.18991934415"
   ]
  },
  {
   "cell_type": "code",
   "execution_count": null,
   "id": "765aa92f",
   "metadata": {},
   "outputs": [],
   "source": [
    "import re\n",
    "import service_api\n",
    "from models import Ortofotomapa\n",
    "\n",
    "\n",
    "URL = \"https://mapy.geoportal.gov.pl/wss/service/PZGIK/ORTO/WMS/SkorowidzeWgAktualnosci?\"\n",
    "c = re.compile(\"\\{{1}.*\\}{1}\")\n",
    "\n",
    "\n",
    "def getOrtoListbyPoint1992(x,y):\n",
    "    \"\"\"Zwraca listę dostępnych do pobrania ortofotomap na podstawie\n",
    "    zapytania GetFeatureInfo z usługi WMS\"\"\"\n",
    "    LAYERS = [\n",
    "        'SkorowidzeOrtofotomapyZasiegiStarsze',\n",
    "        'SkorowidzeOrtofotomapyStarsze',\n",
    "        'SkorowidzeOrtofotomapyZasiegi2021',\n",
    "        'SkorowidzeOrtofotomapy2021',\n",
    "        'SkorowidzeOrtofotomapyZasiegi2022',\n",
    "        'SkorowidzeOrtofotomapy2022',\n",
    "        'SkorowidzeOrtofotomapyZasiegi2020',\n",
    "        'SkorowidzeOrtofotomapy2020'\n",
    "    ]\n",
    "    PARAMS = {\n",
    "        'SERVICE': 'WMS',\n",
    "        'request': 'GetFeatureInfo',\n",
    "        'version': '1.3.0',\n",
    "        'layers': ','.join(LAYERS),\n",
    "        'styles': '',\n",
    "        'crs': 'EPSG:2180',\n",
    "        'bbox': '%f,%f,%f,%f' % (y-500, x-500, y+500, x+500),\n",
    "        'width': '101',\n",
    "        'height': '101',\n",
    "        'format': 'image/png',\n",
    "        'transparent': 'true',\n",
    "        'query_layers': ','.join(LAYERS),\n",
    "        'i': '50',\n",
    "        'j': '50',\n",
    "        'INFO_FORMAT': 'text/html'\n",
    "    }\n",
    "    resp = service_api.getRequest(params=PARAMS, url=URL)\n",
    "#     print(resp)\n",
    "    if resp[0]:\n",
    "        ortos = c.findall(resp[1])\n",
    "        ortofotomapaList = []\n",
    "        for orto in ortos:\n",
    "            element = orto.strip(\"{\").strip(\"}\").split(',')\n",
    "            params = {}\n",
    "            for el in element:\n",
    "                item = el.strip().split(':')\n",
    "                val = item[1].strip('\"')\n",
    "                if len(item) > 2:\n",
    "                    val = \":\".join(item[1:]).strip('\"')\n",
    "                params[item[0]] = val\n",
    "#             print(params)\n",
    "#             ortofotomapa = Ortofotomapa(**params)\n",
    "#             ortofotomapaList.append(ortofotomapa)\n",
    "            ortofotomapaList.append(params)\n",
    "        return ortofotomapaList\n",
    "    else:\n",
    "        return []\n"
   ]
  },
  {
   "cell_type": "code",
   "execution_count": null,
   "id": "1ac5ca9b",
   "metadata": {},
   "outputs": [],
   "source": [
    "res = getOrtoListbyPoint1992(x,y)"
   ]
  },
  {
   "cell_type": "code",
   "execution_count": null,
   "id": "8662ae82",
   "metadata": {},
   "outputs": [],
   "source": [
    "res"
   ]
  },
  {
   "cell_type": "code",
   "execution_count": null,
   "id": "2be1612f",
   "metadata": {
    "scrolled": false
   },
   "outputs": [],
   "source": [
    "for i in range(10):\n",
    "    res = getOrtoListbyPoint1992(x+500*i,y)\n",
    "    for r in res:\n",
    "        if int(r['aktualnoscRok'])>=2020:\n",
    "            print(r['wielkoscPiksela'])\n",
    "            print(r['zrodloDanych'])\n",
    "            print(r['kolor'])\n",
    "            print(r['aktualnosc'])\n",
    "            print(r['calyArkuszWyeplnionyTrescia'])\n",
    "            print(r['ukladWspolrzednych'])\n",
    "            print(r['url'])\n",
    "            print(r['godlo'])\n",
    "            print('\\n')"
   ]
  },
  {
   "cell_type": "code",
   "execution_count": null,
   "id": "7b83489b",
   "metadata": {},
   "outputs": [],
   "source": [
    "dir(res[0])"
   ]
  },
  {
   "cell_type": "markdown",
   "id": "98e18b95",
   "metadata": {},
   "source": [
    "# geo -> get all points in PL"
   ]
  },
  {
   "cell_type": "code",
   "execution_count": null,
   "id": "78efecaa",
   "metadata": {},
   "outputs": [],
   "source": [
    "import geopandas as gpd"
   ]
  },
  {
   "cell_type": "code",
   "execution_count": null,
   "id": "49918ecf",
   "metadata": {},
   "outputs": [],
   "source": [
    "from shapely.geometry import Polygon,Point"
   ]
  },
  {
   "cell_type": "code",
   "execution_count": null,
   "id": "73ec0f8c",
   "metadata": {},
   "outputs": [],
   "source": [
    "gpd.datasets.available"
   ]
  },
  {
   "cell_type": "code",
   "execution_count": null,
   "id": "47b11820",
   "metadata": {},
   "outputs": [],
   "source": [
    "world_filepath = gpd.datasets.get_path('naturalearth_lowres')\n",
    "world = gpd.read_file(world_filepath)\n",
    "world.head()"
   ]
  },
  {
   "cell_type": "code",
   "execution_count": null,
   "id": "4b7cbf89",
   "metadata": {},
   "outputs": [],
   "source": [
    "poland = world.loc[world['name'] == 'Poland']\n",
    "poland.plot()"
   ]
  },
  {
   "cell_type": "code",
   "execution_count": null,
   "id": "68403b79",
   "metadata": {},
   "outputs": [],
   "source": [
    "pl = Polygon(poland.geometry.iloc[0])\n",
    "pl"
   ]
  },
  {
   "cell_type": "code",
   "execution_count": null,
   "id": "e01150aa",
   "metadata": {},
   "outputs": [],
   "source": [
    "pl.exterior"
   ]
  },
  {
   "cell_type": "code",
   "execution_count": null,
   "id": "fcd9489b",
   "metadata": {},
   "outputs": [],
   "source": [
    "[len(_) for _ in pl.exterior.xy]"
   ]
  },
  {
   "cell_type": "code",
   "execution_count": null,
   "id": "28d0c45a",
   "metadata": {},
   "outputs": [],
   "source": [
    "xys = np.array(pl.exterior.xy)\n",
    "xys.shape"
   ]
  },
  {
   "cell_type": "code",
   "execution_count": null,
   "id": "273f6926",
   "metadata": {},
   "outputs": [],
   "source": [
    "plt.scatter(xys[0,:],xys[1,:])"
   ]
  },
  {
   "cell_type": "code",
   "execution_count": null,
   "id": "f4d9920d",
   "metadata": {},
   "outputs": [],
   "source": [
    "pl_minx, pl_maxx, pl_miny, pl_maxy = np.min(xys[0]), np.max(xys[0]), np.min(xys[1]), np.max(xys[1])\n",
    "pl_minx, pl_maxx, pl_miny, pl_maxy"
   ]
  },
  {
   "cell_type": "code",
   "execution_count": null,
   "id": "7beca9f1",
   "metadata": {},
   "outputs": [],
   "source": [
    "plt.scatter(xys[0,:],xys[1,:])\n",
    "plt.plot((pl_minx, pl_maxx,pl_maxx,pl_minx,pl_minx),(pl_miny,pl_miny, pl_maxy, pl_maxy,pl_miny),'r')"
   ]
  },
  {
   "cell_type": "code",
   "execution_count": null,
   "id": "ae491a58",
   "metadata": {},
   "outputs": [],
   "source": [
    "pl.contains(Point(20,52))"
   ]
  },
  {
   "cell_type": "code",
   "execution_count": null,
   "id": "6bdaef82",
   "metadata": {},
   "outputs": [],
   "source": [
    "pl.contains(Point(20,49))"
   ]
  },
  {
   "cell_type": "markdown",
   "id": "5010e1fc",
   "metadata": {},
   "source": [
    "# WGS84 (epsg:4326) -> PL1992 (EPSG:2180)"
   ]
  },
  {
   "cell_type": "code",
   "execution_count": null,
   "id": "05dcec88",
   "metadata": {},
   "outputs": [],
   "source": [
    "from pyproj import Proj, transform"
   ]
  },
  {
   "cell_type": "code",
   "execution_count": null,
   "id": "314267a5",
   "metadata": {},
   "outputs": [],
   "source": [
    "from pyproj import Transformer\n",
    "transformer = Transformer.from_crs(\"EPSG:4326\", 'EPSG:2180')\n",
    "transformer.transform(52,20)"
   ]
  },
  {
   "cell_type": "code",
   "execution_count": null,
   "id": "927b259b",
   "metadata": {},
   "outputs": [],
   "source": [
    "xdiff = 0.025\n",
    "ydiff = 0.015\n",
    "print(np.array(transformer.transform(52,20)) - np.array(transformer.transform(52-xdiff,20-ydiff)))\n",
    "\n",
    "xs = np.arange(pl_minx, pl_maxx, xdiff)\n",
    "ys = np.arange(pl_miny, pl_maxy, ydiff)\n",
    "xs.shape, ys.shape"
   ]
  },
  {
   "cell_type": "code",
   "execution_count": null,
   "id": "ccb07528",
   "metadata": {},
   "outputs": [],
   "source": [
    "cart = np.transpose([np.tile(xs, len(ys)), np.repeat(ys, len(xs))])\n",
    "cart.shape"
   ]
  },
  {
   "cell_type": "code",
   "execution_count": null,
   "id": "fd75bdef",
   "metadata": {},
   "outputs": [],
   "source": [
    "wgs84s = []\n",
    "for x,y in tqdm(cart):\n",
    "    if pl.contains(Point(x,y)):\n",
    "        wgs84s.append((x,y))\n",
    "wgs84s = np.array(wgs84s)\n",
    "wgs84s.shape"
   ]
  },
  {
   "cell_type": "code",
   "execution_count": null,
   "id": "e4aa158b",
   "metadata": {},
   "outputs": [],
   "source": [
    "plt.figure(figsize=(20,20))\n",
    "plt.scatter(wgs84s[:,0],wgs84s[:,1])"
   ]
  },
  {
   "cell_type": "markdown",
   "id": "8af9a6ae",
   "metadata": {},
   "source": [
    "# get metadata"
   ]
  },
  {
   "cell_type": "code",
   "execution_count": null,
   "id": "62ff395f",
   "metadata": {},
   "outputs": [],
   "source": [
    "import time\n",
    "from random import shuffle"
   ]
  },
  {
   "cell_type": "code",
   "execution_count": null,
   "id": "de46d0c9",
   "metadata": {},
   "outputs": [],
   "source": [
    "wgs84s = wgs84s.tolist()\n",
    "shuffle(wgs84s)"
   ]
  },
  {
   "cell_type": "code",
   "execution_count": null,
   "id": "af14fcca",
   "metadata": {},
   "outputs": [],
   "source": [
    "def wrapper(x,y):\n",
    "    xx,yy = transformer.transform(y, x)\n",
    "    res = getOrtoListbyPoint1992(xx,yy)\n",
    "    return x,y,res"
   ]
  },
  {
   "cell_type": "code",
   "execution_count": null,
   "id": "d0a49d9b",
   "metadata": {},
   "outputs": [],
   "source": []
  },
  {
   "cell_type": "code",
   "execution_count": null,
   "id": "880a41ce",
   "metadata": {},
   "outputs": [],
   "source": [
    "import concurrent.futures"
   ]
  },
  {
   "cell_type": "code",
   "execution_count": null,
   "id": "7107a164",
   "metadata": {},
   "outputs": [],
   "source": [
    "metas = dict()\n",
    "with concurrent.futures.ThreadPoolExecutor() as executor:\n",
    "    futures = []\n",
    "    for xwgs,ywgs in tqdm(wgs84s):\n",
    "        futures.append(executor.submit(wrapper, x=xwgs,y=ywgs))\n",
    "    for future in tqdm(concurrent.futures.as_completed(futures)):\n",
    "        x,y,res = future.result()\n",
    "        metas[(x,y)] = res"
   ]
  },
  {
   "cell_type": "code",
   "execution_count": null,
   "id": "98da1c76",
   "metadata": {},
   "outputs": [],
   "source": [
    "# results[:10]"
   ]
  }
 ],
 "metadata": {
  "kernelspec": {
   "display_name": "Python 3",
   "language": "python",
   "name": "python3"
  },
  "language_info": {
   "codemirror_mode": {
    "name": "ipython",
    "version": 3
   },
   "file_extension": ".py",
   "mimetype": "text/x-python",
   "name": "python",
   "nbconvert_exporter": "python",
   "pygments_lexer": "ipython3",
   "version": "3.7.6"
  }
 },
 "nbformat": 4,
 "nbformat_minor": 5
}
